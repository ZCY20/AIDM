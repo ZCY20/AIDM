{
 "cells": [
  {
   "cell_type": "code",
   "execution_count": 42,
   "metadata": {
    "execution": {
     "iopub.execute_input": "2023-06-11T21:18:33.412744Z",
     "iopub.status.busy": "2023-06-11T21:18:33.412427Z",
     "iopub.status.idle": "2023-06-11T21:18:33.521414Z",
     "shell.execute_reply": "2023-06-11T21:18:33.519990Z",
     "shell.execute_reply.started": "2023-06-11T21:18:33.412720Z"
    }
   },
   "outputs": [
    {
     "data": {
      "text/html": [
       "<div>\n",
       "<style scoped>\n",
       "    .dataframe tbody tr th:only-of-type {\n",
       "        vertical-align: middle;\n",
       "    }\n",
       "\n",
       "    .dataframe tbody tr th {\n",
       "        vertical-align: top;\n",
       "    }\n",
       "\n",
       "    .dataframe thead th {\n",
       "        text-align: right;\n",
       "    }\n",
       "</style>\n",
       "<table border=\"1\" class=\"dataframe\">\n",
       "  <thead>\n",
       "    <tr style=\"text-align: right;\">\n",
       "      <th></th>\n",
       "      <th>Sex</th>\n",
       "      <th>Length</th>\n",
       "      <th>Diameter</th>\n",
       "      <th>Height</th>\n",
       "      <th>Weight</th>\n",
       "      <th>Shucked Weight</th>\n",
       "      <th>Viscera Weight</th>\n",
       "      <th>Shell Weight</th>\n",
       "      <th>Age</th>\n",
       "    </tr>\n",
       "    <tr>\n",
       "      <th>id</th>\n",
       "      <th></th>\n",
       "      <th></th>\n",
       "      <th></th>\n",
       "      <th></th>\n",
       "      <th></th>\n",
       "      <th></th>\n",
       "      <th></th>\n",
       "      <th></th>\n",
       "      <th></th>\n",
       "    </tr>\n",
       "  </thead>\n",
       "  <tbody>\n",
       "    <tr>\n",
       "      <th>0</th>\n",
       "      <td>1</td>\n",
       "      <td>1.5250</td>\n",
       "      <td>1.1750</td>\n",
       "      <td>0.3750</td>\n",
       "      <td>28.973189</td>\n",
       "      <td>12.728926</td>\n",
       "      <td>6.647958</td>\n",
       "      <td>8.348928</td>\n",
       "      <td>9</td>\n",
       "    </tr>\n",
       "    <tr>\n",
       "      <th>1</th>\n",
       "      <td>1</td>\n",
       "      <td>1.1000</td>\n",
       "      <td>0.8250</td>\n",
       "      <td>0.2750</td>\n",
       "      <td>10.418441</td>\n",
       "      <td>4.521745</td>\n",
       "      <td>2.324659</td>\n",
       "      <td>3.401940</td>\n",
       "      <td>8</td>\n",
       "    </tr>\n",
       "    <tr>\n",
       "      <th>2</th>\n",
       "      <td>2</td>\n",
       "      <td>1.3875</td>\n",
       "      <td>1.1125</td>\n",
       "      <td>0.3750</td>\n",
       "      <td>24.777463</td>\n",
       "      <td>11.339800</td>\n",
       "      <td>5.556502</td>\n",
       "      <td>6.662133</td>\n",
       "      <td>9</td>\n",
       "    </tr>\n",
       "    <tr>\n",
       "      <th>3</th>\n",
       "      <td>0</td>\n",
       "      <td>1.7000</td>\n",
       "      <td>1.4125</td>\n",
       "      <td>0.5000</td>\n",
       "      <td>50.660556</td>\n",
       "      <td>20.354941</td>\n",
       "      <td>10.991839</td>\n",
       "      <td>14.996885</td>\n",
       "      <td>11</td>\n",
       "    </tr>\n",
       "    <tr>\n",
       "      <th>4</th>\n",
       "      <td>1</td>\n",
       "      <td>1.2500</td>\n",
       "      <td>1.0125</td>\n",
       "      <td>0.3375</td>\n",
       "      <td>23.289114</td>\n",
       "      <td>11.977664</td>\n",
       "      <td>4.507570</td>\n",
       "      <td>5.953395</td>\n",
       "      <td>8</td>\n",
       "    </tr>\n",
       "    <tr>\n",
       "      <th>...</th>\n",
       "      <td>...</td>\n",
       "      <td>...</td>\n",
       "      <td>...</td>\n",
       "      <td>...</td>\n",
       "      <td>...</td>\n",
       "      <td>...</td>\n",
       "      <td>...</td>\n",
       "      <td>...</td>\n",
       "      <td>...</td>\n",
       "    </tr>\n",
       "    <tr>\n",
       "      <th>74046</th>\n",
       "      <td>0</td>\n",
       "      <td>1.6625</td>\n",
       "      <td>1.2625</td>\n",
       "      <td>0.4375</td>\n",
       "      <td>50.660556</td>\n",
       "      <td>20.680960</td>\n",
       "      <td>10.361742</td>\n",
       "      <td>12.332033</td>\n",
       "      <td>10</td>\n",
       "    </tr>\n",
       "    <tr>\n",
       "      <th>74047</th>\n",
       "      <td>1</td>\n",
       "      <td>1.0750</td>\n",
       "      <td>0.8625</td>\n",
       "      <td>0.2750</td>\n",
       "      <td>10.446791</td>\n",
       "      <td>4.323299</td>\n",
       "      <td>2.296310</td>\n",
       "      <td>3.543687</td>\n",
       "      <td>6</td>\n",
       "    </tr>\n",
       "    <tr>\n",
       "      <th>74048</th>\n",
       "      <td>0</td>\n",
       "      <td>1.4875</td>\n",
       "      <td>1.2000</td>\n",
       "      <td>0.4125</td>\n",
       "      <td>29.483480</td>\n",
       "      <td>12.303683</td>\n",
       "      <td>7.540967</td>\n",
       "      <td>8.079607</td>\n",
       "      <td>10</td>\n",
       "    </tr>\n",
       "    <tr>\n",
       "      <th>74049</th>\n",
       "      <td>1</td>\n",
       "      <td>1.2125</td>\n",
       "      <td>0.9625</td>\n",
       "      <td>0.3125</td>\n",
       "      <td>16.768729</td>\n",
       "      <td>8.972617</td>\n",
       "      <td>2.919999</td>\n",
       "      <td>4.280774</td>\n",
       "      <td>8</td>\n",
       "    </tr>\n",
       "    <tr>\n",
       "      <th>74050</th>\n",
       "      <td>1</td>\n",
       "      <td>0.9125</td>\n",
       "      <td>0.6750</td>\n",
       "      <td>0.2000</td>\n",
       "      <td>5.386405</td>\n",
       "      <td>2.055339</td>\n",
       "      <td>1.034757</td>\n",
       "      <td>1.700970</td>\n",
       "      <td>6</td>\n",
       "    </tr>\n",
       "  </tbody>\n",
       "</table>\n",
       "<p>74051 rows × 9 columns</p>\n",
       "</div>"
      ],
      "text/plain": [
       "       Sex  Length  Diameter  Height     Weight  Shucked Weight  \\\n",
       "id                                                                \n",
       "0        1  1.5250    1.1750  0.3750  28.973189       12.728926   \n",
       "1        1  1.1000    0.8250  0.2750  10.418441        4.521745   \n",
       "2        2  1.3875    1.1125  0.3750  24.777463       11.339800   \n",
       "3        0  1.7000    1.4125  0.5000  50.660556       20.354941   \n",
       "4        1  1.2500    1.0125  0.3375  23.289114       11.977664   \n",
       "...    ...     ...       ...     ...        ...             ...   \n",
       "74046    0  1.6625    1.2625  0.4375  50.660556       20.680960   \n",
       "74047    1  1.0750    0.8625  0.2750  10.446791        4.323299   \n",
       "74048    0  1.4875    1.2000  0.4125  29.483480       12.303683   \n",
       "74049    1  1.2125    0.9625  0.3125  16.768729        8.972617   \n",
       "74050    1  0.9125    0.6750  0.2000   5.386405        2.055339   \n",
       "\n",
       "       Viscera Weight  Shell Weight  Age  \n",
       "id                                        \n",
       "0            6.647958      8.348928    9  \n",
       "1            2.324659      3.401940    8  \n",
       "2            5.556502      6.662133    9  \n",
       "3           10.991839     14.996885   11  \n",
       "4            4.507570      5.953395    8  \n",
       "...               ...           ...  ...  \n",
       "74046       10.361742     12.332033   10  \n",
       "74047        2.296310      3.543687    6  \n",
       "74048        7.540967      8.079607   10  \n",
       "74049        2.919999      4.280774    8  \n",
       "74050        1.034757      1.700970    6  \n",
       "\n",
       "[74051 rows x 9 columns]"
      ]
     },
     "execution_count": 42,
     "metadata": {},
     "output_type": "execute_result"
    }
   ],
   "source": [
    "import pandas as pd\n",
    "from sklearn import preprocessing\n",
    "\n",
    "df_train = pd.read_csv(\"a1.csv\")\n",
    "\n",
    "le = preprocessing.LabelEncoder()\n",
    "df_train['Sex']=le.fit_transform(df_train['Sex'])\n",
    "df_train.set_index(\"id\",inplace=True)\n",
    "df_train                                                     "
   ]
  },
  {
   "cell_type": "code",
   "execution_count": 43,
   "metadata": {
    "execution": {
     "iopub.execute_input": "2023-06-11T21:18:33.524107Z",
     "iopub.status.busy": "2023-06-11T21:18:33.523670Z",
     "iopub.status.idle": "2023-06-11T21:18:33.592582Z",
     "shell.execute_reply": "2023-06-11T21:18:33.591173Z",
     "shell.execute_reply.started": "2023-06-11T21:18:33.524073Z"
    }
   },
   "outputs": [
    {
     "data": {
      "text/html": [
       "<div>\n",
       "<style scoped>\n",
       "    .dataframe tbody tr th:only-of-type {\n",
       "        vertical-align: middle;\n",
       "    }\n",
       "\n",
       "    .dataframe tbody tr th {\n",
       "        vertical-align: top;\n",
       "    }\n",
       "\n",
       "    .dataframe thead th {\n",
       "        text-align: right;\n",
       "    }\n",
       "</style>\n",
       "<table border=\"1\" class=\"dataframe\">\n",
       "  <thead>\n",
       "    <tr style=\"text-align: right;\">\n",
       "      <th></th>\n",
       "      <th>Sex</th>\n",
       "      <th>Length</th>\n",
       "      <th>Diameter</th>\n",
       "      <th>Height</th>\n",
       "      <th>Weight</th>\n",
       "      <th>Shucked Weight</th>\n",
       "      <th>Viscera Weight</th>\n",
       "      <th>Shell Weight</th>\n",
       "    </tr>\n",
       "    <tr>\n",
       "      <th>id</th>\n",
       "      <th></th>\n",
       "      <th></th>\n",
       "      <th></th>\n",
       "      <th></th>\n",
       "      <th></th>\n",
       "      <th></th>\n",
       "      <th></th>\n",
       "      <th></th>\n",
       "    </tr>\n",
       "  </thead>\n",
       "  <tbody>\n",
       "    <tr>\n",
       "      <th>74051</th>\n",
       "      <td>1</td>\n",
       "      <td>1.0500</td>\n",
       "      <td>0.7625</td>\n",
       "      <td>0.2750</td>\n",
       "      <td>8.618248</td>\n",
       "      <td>3.657085</td>\n",
       "      <td>1.729319</td>\n",
       "      <td>2.721552</td>\n",
       "    </tr>\n",
       "    <tr>\n",
       "      <th>74052</th>\n",
       "      <td>1</td>\n",
       "      <td>1.1625</td>\n",
       "      <td>0.8875</td>\n",
       "      <td>0.2750</td>\n",
       "      <td>15.507176</td>\n",
       "      <td>7.030676</td>\n",
       "      <td>3.246018</td>\n",
       "      <td>3.968930</td>\n",
       "    </tr>\n",
       "    <tr>\n",
       "      <th>74053</th>\n",
       "      <td>0</td>\n",
       "      <td>1.2875</td>\n",
       "      <td>0.9875</td>\n",
       "      <td>0.3250</td>\n",
       "      <td>14.571643</td>\n",
       "      <td>5.556502</td>\n",
       "      <td>3.883882</td>\n",
       "      <td>4.819415</td>\n",
       "    </tr>\n",
       "    <tr>\n",
       "      <th>74054</th>\n",
       "      <td>0</td>\n",
       "      <td>1.5500</td>\n",
       "      <td>0.9875</td>\n",
       "      <td>0.3875</td>\n",
       "      <td>28.377849</td>\n",
       "      <td>13.380964</td>\n",
       "      <td>6.548735</td>\n",
       "      <td>7.030676</td>\n",
       "    </tr>\n",
       "    <tr>\n",
       "      <th>74055</th>\n",
       "      <td>1</td>\n",
       "      <td>1.1125</td>\n",
       "      <td>0.8500</td>\n",
       "      <td>0.2625</td>\n",
       "      <td>11.765042</td>\n",
       "      <td>5.528153</td>\n",
       "      <td>2.466407</td>\n",
       "      <td>3.331066</td>\n",
       "    </tr>\n",
       "    <tr>\n",
       "      <th>...</th>\n",
       "      <td>...</td>\n",
       "      <td>...</td>\n",
       "      <td>...</td>\n",
       "      <td>...</td>\n",
       "      <td>...</td>\n",
       "      <td>...</td>\n",
       "      <td>...</td>\n",
       "      <td>...</td>\n",
       "    </tr>\n",
       "    <tr>\n",
       "      <th>123414</th>\n",
       "      <td>0</td>\n",
       "      <td>1.3000</td>\n",
       "      <td>1.0375</td>\n",
       "      <td>0.3250</td>\n",
       "      <td>16.315137</td>\n",
       "      <td>6.690482</td>\n",
       "      <td>5.173784</td>\n",
       "      <td>3.756309</td>\n",
       "    </tr>\n",
       "    <tr>\n",
       "      <th>123415</th>\n",
       "      <td>1</td>\n",
       "      <td>1.0375</td>\n",
       "      <td>0.7625</td>\n",
       "      <td>0.2625</td>\n",
       "      <td>10.276694</td>\n",
       "      <td>4.436697</td>\n",
       "      <td>1.998640</td>\n",
       "      <td>3.543687</td>\n",
       "    </tr>\n",
       "    <tr>\n",
       "      <th>123416</th>\n",
       "      <td>0</td>\n",
       "      <td>1.4875</td>\n",
       "      <td>1.1625</td>\n",
       "      <td>0.3625</td>\n",
       "      <td>31.382897</td>\n",
       "      <td>11.396499</td>\n",
       "      <td>6.846404</td>\n",
       "      <td>8.788345</td>\n",
       "    </tr>\n",
       "    <tr>\n",
       "      <th>123417</th>\n",
       "      <td>0</td>\n",
       "      <td>1.2375</td>\n",
       "      <td>0.9500</td>\n",
       "      <td>0.2875</td>\n",
       "      <td>15.663099</td>\n",
       "      <td>6.095142</td>\n",
       "      <td>3.727959</td>\n",
       "      <td>4.961163</td>\n",
       "    </tr>\n",
       "    <tr>\n",
       "      <th>123418</th>\n",
       "      <td>2</td>\n",
       "      <td>1.6625</td>\n",
       "      <td>1.3000</td>\n",
       "      <td>0.4375</td>\n",
       "      <td>36.613379</td>\n",
       "      <td>14.911837</td>\n",
       "      <td>8.292229</td>\n",
       "      <td>10.489315</td>\n",
       "    </tr>\n",
       "  </tbody>\n",
       "</table>\n",
       "<p>49368 rows × 8 columns</p>\n",
       "</div>"
      ],
      "text/plain": [
       "        Sex  Length  Diameter  Height     Weight  Shucked Weight  \\\n",
       "id                                                                 \n",
       "74051     1  1.0500    0.7625  0.2750   8.618248        3.657085   \n",
       "74052     1  1.1625    0.8875  0.2750  15.507176        7.030676   \n",
       "74053     0  1.2875    0.9875  0.3250  14.571643        5.556502   \n",
       "74054     0  1.5500    0.9875  0.3875  28.377849       13.380964   \n",
       "74055     1  1.1125    0.8500  0.2625  11.765042        5.528153   \n",
       "...     ...     ...       ...     ...        ...             ...   \n",
       "123414    0  1.3000    1.0375  0.3250  16.315137        6.690482   \n",
       "123415    1  1.0375    0.7625  0.2625  10.276694        4.436697   \n",
       "123416    0  1.4875    1.1625  0.3625  31.382897       11.396499   \n",
       "123417    0  1.2375    0.9500  0.2875  15.663099        6.095142   \n",
       "123418    2  1.6625    1.3000  0.4375  36.613379       14.911837   \n",
       "\n",
       "        Viscera Weight  Shell Weight  \n",
       "id                                    \n",
       "74051         1.729319      2.721552  \n",
       "74052         3.246018      3.968930  \n",
       "74053         3.883882      4.819415  \n",
       "74054         6.548735      7.030676  \n",
       "74055         2.466407      3.331066  \n",
       "...                ...           ...  \n",
       "123414        5.173784      3.756309  \n",
       "123415        1.998640      3.543687  \n",
       "123416        6.846404      8.788345  \n",
       "123417        3.727959      4.961163  \n",
       "123418        8.292229     10.489315  \n",
       "\n",
       "[49368 rows x 8 columns]"
      ]
     },
     "execution_count": 43,
     "metadata": {},
     "output_type": "execute_result"
    }
   ],
   "source": [
    "le = preprocessing.LabelEncoder()\n",
    "df_test['Sex']=le.fit_transform(df_test['Sex'])\n",
    "df_test.set_index(\"id\",inplace=True)\n",
    "df_test"
   ]
  },
  {
   "cell_type": "code",
   "execution_count": 44,
   "metadata": {
    "execution": {
     "iopub.execute_input": "2023-06-11T21:18:33.595041Z",
     "iopub.status.busy": "2023-06-11T21:18:33.594611Z",
     "iopub.status.idle": "2023-06-11T21:18:33.629132Z",
     "shell.execute_reply": "2023-06-11T21:18:33.628419Z",
     "shell.execute_reply.started": "2023-06-11T21:18:33.594973Z"
    }
   },
   "outputs": [
    {
     "data": {
      "text/html": [
       "<div>\n",
       "<style scoped>\n",
       "    .dataframe tbody tr th:only-of-type {\n",
       "        vertical-align: middle;\n",
       "    }\n",
       "\n",
       "    .dataframe tbody tr th {\n",
       "        vertical-align: top;\n",
       "    }\n",
       "\n",
       "    .dataframe thead th {\n",
       "        text-align: right;\n",
       "    }\n",
       "</style>\n",
       "<table border=\"1\" class=\"dataframe\">\n",
       "  <thead>\n",
       "    <tr style=\"text-align: right;\">\n",
       "      <th></th>\n",
       "      <th>Sex</th>\n",
       "      <th>Length</th>\n",
       "      <th>Diameter</th>\n",
       "      <th>Height</th>\n",
       "      <th>Weight</th>\n",
       "      <th>Shucked Weight</th>\n",
       "      <th>Viscera Weight</th>\n",
       "      <th>Shell Weight</th>\n",
       "      <th>Age</th>\n",
       "      <th>Area_Crab</th>\n",
       "      <th>Weight_Area</th>\n",
       "      <th>Length_Poly</th>\n",
       "      <th>Diameter_Poly</th>\n",
       "    </tr>\n",
       "    <tr>\n",
       "      <th>id</th>\n",
       "      <th></th>\n",
       "      <th></th>\n",
       "      <th></th>\n",
       "      <th></th>\n",
       "      <th></th>\n",
       "      <th></th>\n",
       "      <th></th>\n",
       "      <th></th>\n",
       "      <th></th>\n",
       "      <th></th>\n",
       "      <th></th>\n",
       "      <th></th>\n",
       "      <th></th>\n",
       "    </tr>\n",
       "  </thead>\n",
       "  <tbody>\n",
       "    <tr>\n",
       "      <th>0</th>\n",
       "      <td>1</td>\n",
       "      <td>1.5250</td>\n",
       "      <td>1.1750</td>\n",
       "      <td>0.3750</td>\n",
       "      <td>28.973189</td>\n",
       "      <td>12.728926</td>\n",
       "      <td>6.647958</td>\n",
       "      <td>8.348928</td>\n",
       "      <td>9</td>\n",
       "      <td>1.791875</td>\n",
       "      <td>16.169202</td>\n",
       "      <td>2.325625</td>\n",
       "      <td>1.380625</td>\n",
       "    </tr>\n",
       "    <tr>\n",
       "      <th>1</th>\n",
       "      <td>1</td>\n",
       "      <td>1.1000</td>\n",
       "      <td>0.8250</td>\n",
       "      <td>0.2750</td>\n",
       "      <td>10.418441</td>\n",
       "      <td>4.521745</td>\n",
       "      <td>2.324659</td>\n",
       "      <td>3.401940</td>\n",
       "      <td>8</td>\n",
       "      <td>0.907500</td>\n",
       "      <td>11.480376</td>\n",
       "      <td>1.210000</td>\n",
       "      <td>0.680625</td>\n",
       "    </tr>\n",
       "    <tr>\n",
       "      <th>2</th>\n",
       "      <td>2</td>\n",
       "      <td>1.3875</td>\n",
       "      <td>1.1125</td>\n",
       "      <td>0.3750</td>\n",
       "      <td>24.777463</td>\n",
       "      <td>11.339800</td>\n",
       "      <td>5.556502</td>\n",
       "      <td>6.662133</td>\n",
       "      <td>9</td>\n",
       "      <td>1.543594</td>\n",
       "      <td>16.051803</td>\n",
       "      <td>1.925156</td>\n",
       "      <td>1.237656</td>\n",
       "    </tr>\n",
       "    <tr>\n",
       "      <th>3</th>\n",
       "      <td>0</td>\n",
       "      <td>1.7000</td>\n",
       "      <td>1.4125</td>\n",
       "      <td>0.5000</td>\n",
       "      <td>50.660556</td>\n",
       "      <td>20.354941</td>\n",
       "      <td>10.991839</td>\n",
       "      <td>14.996885</td>\n",
       "      <td>11</td>\n",
       "      <td>2.401250</td>\n",
       "      <td>21.097577</td>\n",
       "      <td>2.890000</td>\n",
       "      <td>1.995156</td>\n",
       "    </tr>\n",
       "    <tr>\n",
       "      <th>4</th>\n",
       "      <td>1</td>\n",
       "      <td>1.2500</td>\n",
       "      <td>1.0125</td>\n",
       "      <td>0.3375</td>\n",
       "      <td>23.289114</td>\n",
       "      <td>11.977664</td>\n",
       "      <td>4.507570</td>\n",
       "      <td>5.953395</td>\n",
       "      <td>8</td>\n",
       "      <td>1.265625</td>\n",
       "      <td>18.401275</td>\n",
       "      <td>1.562500</td>\n",
       "      <td>1.025156</td>\n",
       "    </tr>\n",
       "    <tr>\n",
       "      <th>...</th>\n",
       "      <td>...</td>\n",
       "      <td>...</td>\n",
       "      <td>...</td>\n",
       "      <td>...</td>\n",
       "      <td>...</td>\n",
       "      <td>...</td>\n",
       "      <td>...</td>\n",
       "      <td>...</td>\n",
       "      <td>...</td>\n",
       "      <td>...</td>\n",
       "      <td>...</td>\n",
       "      <td>...</td>\n",
       "      <td>...</td>\n",
       "    </tr>\n",
       "    <tr>\n",
       "      <th>74046</th>\n",
       "      <td>0</td>\n",
       "      <td>1.6625</td>\n",
       "      <td>1.2625</td>\n",
       "      <td>0.4375</td>\n",
       "      <td>50.660556</td>\n",
       "      <td>20.680960</td>\n",
       "      <td>10.361742</td>\n",
       "      <td>12.332033</td>\n",
       "      <td>10</td>\n",
       "      <td>2.098906</td>\n",
       "      <td>24.136646</td>\n",
       "      <td>2.763906</td>\n",
       "      <td>1.593906</td>\n",
       "    </tr>\n",
       "    <tr>\n",
       "      <th>74047</th>\n",
       "      <td>1</td>\n",
       "      <td>1.0750</td>\n",
       "      <td>0.8625</td>\n",
       "      <td>0.2750</td>\n",
       "      <td>10.446791</td>\n",
       "      <td>4.323299</td>\n",
       "      <td>2.296310</td>\n",
       "      <td>3.543687</td>\n",
       "      <td>6</td>\n",
       "      <td>0.927188</td>\n",
       "      <td>11.267182</td>\n",
       "      <td>1.155625</td>\n",
       "      <td>0.743906</td>\n",
       "    </tr>\n",
       "    <tr>\n",
       "      <th>74048</th>\n",
       "      <td>0</td>\n",
       "      <td>1.4875</td>\n",
       "      <td>1.2000</td>\n",
       "      <td>0.4125</td>\n",
       "      <td>29.483480</td>\n",
       "      <td>12.303683</td>\n",
       "      <td>7.540967</td>\n",
       "      <td>8.079607</td>\n",
       "      <td>10</td>\n",
       "      <td>1.785000</td>\n",
       "      <td>16.517356</td>\n",
       "      <td>2.212656</td>\n",
       "      <td>1.440000</td>\n",
       "    </tr>\n",
       "    <tr>\n",
       "      <th>74049</th>\n",
       "      <td>1</td>\n",
       "      <td>1.2125</td>\n",
       "      <td>0.9625</td>\n",
       "      <td>0.3125</td>\n",
       "      <td>16.768729</td>\n",
       "      <td>8.972617</td>\n",
       "      <td>2.919999</td>\n",
       "      <td>4.280774</td>\n",
       "      <td>8</td>\n",
       "      <td>1.167031</td>\n",
       "      <td>14.368706</td>\n",
       "      <td>1.470156</td>\n",
       "      <td>0.926406</td>\n",
       "    </tr>\n",
       "    <tr>\n",
       "      <th>74050</th>\n",
       "      <td>1</td>\n",
       "      <td>0.9125</td>\n",
       "      <td>0.6750</td>\n",
       "      <td>0.2000</td>\n",
       "      <td>5.386405</td>\n",
       "      <td>2.055339</td>\n",
       "      <td>1.034757</td>\n",
       "      <td>1.700970</td>\n",
       "      <td>6</td>\n",
       "      <td>0.615938</td>\n",
       "      <td>8.745051</td>\n",
       "      <td>0.832656</td>\n",
       "      <td>0.455625</td>\n",
       "    </tr>\n",
       "  </tbody>\n",
       "</table>\n",
       "<p>74051 rows × 13 columns</p>\n",
       "</div>"
      ],
      "text/plain": [
       "       Sex  Length  Diameter  Height     Weight  Shucked Weight  \\\n",
       "id                                                                \n",
       "0        1  1.5250    1.1750  0.3750  28.973189       12.728926   \n",
       "1        1  1.1000    0.8250  0.2750  10.418441        4.521745   \n",
       "2        2  1.3875    1.1125  0.3750  24.777463       11.339800   \n",
       "3        0  1.7000    1.4125  0.5000  50.660556       20.354941   \n",
       "4        1  1.2500    1.0125  0.3375  23.289114       11.977664   \n",
       "...    ...     ...       ...     ...        ...             ...   \n",
       "74046    0  1.6625    1.2625  0.4375  50.660556       20.680960   \n",
       "74047    1  1.0750    0.8625  0.2750  10.446791        4.323299   \n",
       "74048    0  1.4875    1.2000  0.4125  29.483480       12.303683   \n",
       "74049    1  1.2125    0.9625  0.3125  16.768729        8.972617   \n",
       "74050    1  0.9125    0.6750  0.2000   5.386405        2.055339   \n",
       "\n",
       "       Viscera Weight  Shell Weight  Age  Area_Crab  Weight_Area  Length_Poly  \\\n",
       "id                                                                              \n",
       "0            6.647958      8.348928    9   1.791875    16.169202     2.325625   \n",
       "1            2.324659      3.401940    8   0.907500    11.480376     1.210000   \n",
       "2            5.556502      6.662133    9   1.543594    16.051803     1.925156   \n",
       "3           10.991839     14.996885   11   2.401250    21.097577     2.890000   \n",
       "4            4.507570      5.953395    8   1.265625    18.401275     1.562500   \n",
       "...               ...           ...  ...        ...          ...          ...   \n",
       "74046       10.361742     12.332033   10   2.098906    24.136646     2.763906   \n",
       "74047        2.296310      3.543687    6   0.927188    11.267182     1.155625   \n",
       "74048        7.540967      8.079607   10   1.785000    16.517356     2.212656   \n",
       "74049        2.919999      4.280774    8   1.167031    14.368706     1.470156   \n",
       "74050        1.034757      1.700970    6   0.615938     8.745051     0.832656   \n",
       "\n",
       "       Diameter_Poly  \n",
       "id                    \n",
       "0           1.380625  \n",
       "1           0.680625  \n",
       "2           1.237656  \n",
       "3           1.995156  \n",
       "4           1.025156  \n",
       "...              ...  \n",
       "74046       1.593906  \n",
       "74047       0.743906  \n",
       "74048       1.440000  \n",
       "74049       0.926406  \n",
       "74050       0.455625  \n",
       "\n",
       "[74051 rows x 13 columns]"
      ]
     },
     "execution_count": 44,
     "metadata": {},
     "output_type": "execute_result"
    }
   ],
   "source": [
    "import numpy as np\n",
    "\n",
    "train = df_train\n",
    "\n",
    "condition1 = train['Weight']<train['Shucked Weight']\n",
    "train['Weight'] = np.where(condition1,train['Shucked Weight'],train['Weight'])\n",
    "train[condition1]\n",
    "\n",
    "condition2 = (train['Shucked Weight'] + train['Viscera Weight'] + train['Shell Weight'])>train['Weight']\n",
    "train[condition2]\n",
    "sum_weight = train['Shucked Weight'] + train['Viscera Weight'] + train['Shell Weight']\n",
    "train['Weight'] = np.where(condition2,sum_weight,train['Weight'])\n",
    "train[condition2]\n",
    "\n",
    "train[\"Area_Crab\"]=train[\"Length\"]*train[\"Diameter\"]\n",
    "train[\"Weight_Area\"]=train[\"Weight\"]/train[\"Area_Crab\"]\n",
    "train[\"Length_Poly\"]=train[\"Length\"]*train[\"Length\"]\n",
    "train[\"Diameter_Poly\"]=train[\"Diameter\"]*train[\"Diameter\"]\n",
    "\n",
    "\n",
    "train\n"
   ]
  },
  {
   "cell_type": "code",
   "execution_count": 45,
   "metadata": {
    "execution": {
     "iopub.execute_input": "2023-06-11T21:18:33.631672Z",
     "iopub.status.busy": "2023-06-11T21:18:33.631425Z",
     "iopub.status.idle": "2023-06-11T21:18:33.660950Z",
     "shell.execute_reply": "2023-06-11T21:18:33.659467Z",
     "shell.execute_reply.started": "2023-06-11T21:18:33.631650Z"
    }
   },
   "outputs": [
    {
     "data": {
      "text/html": [
       "<div>\n",
       "<style scoped>\n",
       "    .dataframe tbody tr th:only-of-type {\n",
       "        vertical-align: middle;\n",
       "    }\n",
       "\n",
       "    .dataframe tbody tr th {\n",
       "        vertical-align: top;\n",
       "    }\n",
       "\n",
       "    .dataframe thead th {\n",
       "        text-align: right;\n",
       "    }\n",
       "</style>\n",
       "<table border=\"1\" class=\"dataframe\">\n",
       "  <thead>\n",
       "    <tr style=\"text-align: right;\">\n",
       "      <th></th>\n",
       "      <th>Sex</th>\n",
       "      <th>Length</th>\n",
       "      <th>Diameter</th>\n",
       "      <th>Height</th>\n",
       "      <th>Weight</th>\n",
       "      <th>Shucked Weight</th>\n",
       "      <th>Viscera Weight</th>\n",
       "      <th>Shell Weight</th>\n",
       "      <th>Area_Crab</th>\n",
       "      <th>Weight_Area</th>\n",
       "      <th>Length_Poly</th>\n",
       "      <th>Diameter_Poly</th>\n",
       "    </tr>\n",
       "    <tr>\n",
       "      <th>id</th>\n",
       "      <th></th>\n",
       "      <th></th>\n",
       "      <th></th>\n",
       "      <th></th>\n",
       "      <th></th>\n",
       "      <th></th>\n",
       "      <th></th>\n",
       "      <th></th>\n",
       "      <th></th>\n",
       "      <th></th>\n",
       "      <th></th>\n",
       "      <th></th>\n",
       "    </tr>\n",
       "  </thead>\n",
       "  <tbody>\n",
       "    <tr>\n",
       "      <th>74051</th>\n",
       "      <td>1</td>\n",
       "      <td>1.0500</td>\n",
       "      <td>0.7625</td>\n",
       "      <td>0.2750</td>\n",
       "      <td>8.618248</td>\n",
       "      <td>3.657085</td>\n",
       "      <td>1.729319</td>\n",
       "      <td>2.721552</td>\n",
       "      <td>0.800625</td>\n",
       "      <td>10.764400</td>\n",
       "      <td>1.102500</td>\n",
       "      <td>0.581406</td>\n",
       "    </tr>\n",
       "    <tr>\n",
       "      <th>74052</th>\n",
       "      <td>1</td>\n",
       "      <td>1.1625</td>\n",
       "      <td>0.8875</td>\n",
       "      <td>0.2750</td>\n",
       "      <td>15.507176</td>\n",
       "      <td>7.030676</td>\n",
       "      <td>3.246018</td>\n",
       "      <td>3.968930</td>\n",
       "      <td>1.031719</td>\n",
       "      <td>15.030430</td>\n",
       "      <td>1.351406</td>\n",
       "      <td>0.787656</td>\n",
       "    </tr>\n",
       "    <tr>\n",
       "      <th>74053</th>\n",
       "      <td>0</td>\n",
       "      <td>1.2875</td>\n",
       "      <td>0.9875</td>\n",
       "      <td>0.3250</td>\n",
       "      <td>14.571643</td>\n",
       "      <td>5.556502</td>\n",
       "      <td>3.883882</td>\n",
       "      <td>4.819415</td>\n",
       "      <td>1.271406</td>\n",
       "      <td>11.461044</td>\n",
       "      <td>1.657656</td>\n",
       "      <td>0.975156</td>\n",
       "    </tr>\n",
       "    <tr>\n",
       "      <th>74054</th>\n",
       "      <td>0</td>\n",
       "      <td>1.5500</td>\n",
       "      <td>0.9875</td>\n",
       "      <td>0.3875</td>\n",
       "      <td>28.377849</td>\n",
       "      <td>13.380964</td>\n",
       "      <td>6.548735</td>\n",
       "      <td>7.030676</td>\n",
       "      <td>1.530625</td>\n",
       "      <td>18.540041</td>\n",
       "      <td>2.402500</td>\n",
       "      <td>0.975156</td>\n",
       "    </tr>\n",
       "    <tr>\n",
       "      <th>74055</th>\n",
       "      <td>1</td>\n",
       "      <td>1.1125</td>\n",
       "      <td>0.8500</td>\n",
       "      <td>0.2625</td>\n",
       "      <td>11.765042</td>\n",
       "      <td>5.528153</td>\n",
       "      <td>2.466407</td>\n",
       "      <td>3.331066</td>\n",
       "      <td>0.945625</td>\n",
       "      <td>12.441552</td>\n",
       "      <td>1.237656</td>\n",
       "      <td>0.722500</td>\n",
       "    </tr>\n",
       "    <tr>\n",
       "      <th>...</th>\n",
       "      <td>...</td>\n",
       "      <td>...</td>\n",
       "      <td>...</td>\n",
       "      <td>...</td>\n",
       "      <td>...</td>\n",
       "      <td>...</td>\n",
       "      <td>...</td>\n",
       "      <td>...</td>\n",
       "      <td>...</td>\n",
       "      <td>...</td>\n",
       "      <td>...</td>\n",
       "      <td>...</td>\n",
       "    </tr>\n",
       "    <tr>\n",
       "      <th>123414</th>\n",
       "      <td>0</td>\n",
       "      <td>1.3000</td>\n",
       "      <td>1.0375</td>\n",
       "      <td>0.3250</td>\n",
       "      <td>16.315137</td>\n",
       "      <td>6.690482</td>\n",
       "      <td>5.173784</td>\n",
       "      <td>3.756309</td>\n",
       "      <td>1.348750</td>\n",
       "      <td>12.096487</td>\n",
       "      <td>1.690000</td>\n",
       "      <td>1.076406</td>\n",
       "    </tr>\n",
       "    <tr>\n",
       "      <th>123415</th>\n",
       "      <td>1</td>\n",
       "      <td>1.0375</td>\n",
       "      <td>0.7625</td>\n",
       "      <td>0.2625</td>\n",
       "      <td>10.276694</td>\n",
       "      <td>4.436697</td>\n",
       "      <td>1.998640</td>\n",
       "      <td>3.543687</td>\n",
       "      <td>0.791094</td>\n",
       "      <td>12.990488</td>\n",
       "      <td>1.076406</td>\n",
       "      <td>0.581406</td>\n",
       "    </tr>\n",
       "    <tr>\n",
       "      <th>123416</th>\n",
       "      <td>0</td>\n",
       "      <td>1.4875</td>\n",
       "      <td>1.1625</td>\n",
       "      <td>0.3625</td>\n",
       "      <td>31.382897</td>\n",
       "      <td>11.396499</td>\n",
       "      <td>6.846404</td>\n",
       "      <td>8.788345</td>\n",
       "      <td>1.729219</td>\n",
       "      <td>18.148598</td>\n",
       "      <td>2.212656</td>\n",
       "      <td>1.351406</td>\n",
       "    </tr>\n",
       "    <tr>\n",
       "      <th>123417</th>\n",
       "      <td>0</td>\n",
       "      <td>1.2375</td>\n",
       "      <td>0.9500</td>\n",
       "      <td>0.2875</td>\n",
       "      <td>15.663099</td>\n",
       "      <td>6.095142</td>\n",
       "      <td>3.727959</td>\n",
       "      <td>4.961163</td>\n",
       "      <td>1.175625</td>\n",
       "      <td>13.323210</td>\n",
       "      <td>1.531406</td>\n",
       "      <td>0.902500</td>\n",
       "    </tr>\n",
       "    <tr>\n",
       "      <th>123418</th>\n",
       "      <td>2</td>\n",
       "      <td>1.6625</td>\n",
       "      <td>1.3000</td>\n",
       "      <td>0.4375</td>\n",
       "      <td>36.613379</td>\n",
       "      <td>14.911837</td>\n",
       "      <td>8.292229</td>\n",
       "      <td>10.489315</td>\n",
       "      <td>2.161250</td>\n",
       "      <td>16.940835</td>\n",
       "      <td>2.763906</td>\n",
       "      <td>1.690000</td>\n",
       "    </tr>\n",
       "  </tbody>\n",
       "</table>\n",
       "<p>49368 rows × 12 columns</p>\n",
       "</div>"
      ],
      "text/plain": [
       "        Sex  Length  Diameter  Height     Weight  Shucked Weight  \\\n",
       "id                                                                 \n",
       "74051     1  1.0500    0.7625  0.2750   8.618248        3.657085   \n",
       "74052     1  1.1625    0.8875  0.2750  15.507176        7.030676   \n",
       "74053     0  1.2875    0.9875  0.3250  14.571643        5.556502   \n",
       "74054     0  1.5500    0.9875  0.3875  28.377849       13.380964   \n",
       "74055     1  1.1125    0.8500  0.2625  11.765042        5.528153   \n",
       "...     ...     ...       ...     ...        ...             ...   \n",
       "123414    0  1.3000    1.0375  0.3250  16.315137        6.690482   \n",
       "123415    1  1.0375    0.7625  0.2625  10.276694        4.436697   \n",
       "123416    0  1.4875    1.1625  0.3625  31.382897       11.396499   \n",
       "123417    0  1.2375    0.9500  0.2875  15.663099        6.095142   \n",
       "123418    2  1.6625    1.3000  0.4375  36.613379       14.911837   \n",
       "\n",
       "        Viscera Weight  Shell Weight  Area_Crab  Weight_Area  Length_Poly  \\\n",
       "id                                                                          \n",
       "74051         1.729319      2.721552   0.800625    10.764400     1.102500   \n",
       "74052         3.246018      3.968930   1.031719    15.030430     1.351406   \n",
       "74053         3.883882      4.819415   1.271406    11.461044     1.657656   \n",
       "74054         6.548735      7.030676   1.530625    18.540041     2.402500   \n",
       "74055         2.466407      3.331066   0.945625    12.441552     1.237656   \n",
       "...                ...           ...        ...          ...          ...   \n",
       "123414        5.173784      3.756309   1.348750    12.096487     1.690000   \n",
       "123415        1.998640      3.543687   0.791094    12.990488     1.076406   \n",
       "123416        6.846404      8.788345   1.729219    18.148598     2.212656   \n",
       "123417        3.727959      4.961163   1.175625    13.323210     1.531406   \n",
       "123418        8.292229     10.489315   2.161250    16.940835     2.763906   \n",
       "\n",
       "        Diameter_Poly  \n",
       "id                     \n",
       "74051        0.581406  \n",
       "74052        0.787656  \n",
       "74053        0.975156  \n",
       "74054        0.975156  \n",
       "74055        0.722500  \n",
       "...               ...  \n",
       "123414       1.076406  \n",
       "123415       0.581406  \n",
       "123416       1.351406  \n",
       "123417       0.902500  \n",
       "123418       1.690000  \n",
       "\n",
       "[49368 rows x 12 columns]"
      ]
     },
     "execution_count": 45,
     "metadata": {},
     "output_type": "execute_result"
    }
   ],
   "source": [
    "import numpy as np\n",
    "\n",
    "test = df_test\n",
    "condition1 = test['Weight']<test['Shucked Weight']\n",
    "test['Weight'] = np.where(condition1,test['Shucked Weight'],test['Weight'])\n",
    "test[condition1]\n",
    "\n",
    "condition2 = (test['Shucked Weight'] + test['Viscera Weight'] + test['Shell Weight'])>test['Weight']\n",
    "test[condition2]\n",
    "sum_weight = test['Shucked Weight'] + test['Viscera Weight'] + test['Shell Weight']\n",
    "test['Weight'] = np.where(condition2,sum_weight,test['Weight'])\n",
    "test[condition2]\n",
    "\n",
    "test[\"Area_Crab\"]=test[\"Length\"]*test[\"Diameter\"]\n",
    "test[\"Weight_Area\"]=test[\"Weight\"]/test[\"Area_Crab\"]\n",
    "\n",
    "test[\"Length_Poly\"]=test[\"Length\"]*test[\"Length\"]\n",
    "test[\"Diameter_Poly\"]=test[\"Diameter\"]*test[\"Diameter\"]\n",
    "\n",
    "\n",
    "test"
   ]
  },
  {
   "cell_type": "code",
   "execution_count": 46,
   "metadata": {
    "execution": {
     "iopub.execute_input": "2023-06-11T21:18:33.663453Z",
     "iopub.status.busy": "2023-06-11T21:18:33.663026Z",
     "iopub.status.idle": "2023-06-11T21:18:34.397920Z",
     "shell.execute_reply": "2023-06-11T21:18:34.396597Z",
     "shell.execute_reply.started": "2023-06-11T21:18:33.663419Z"
    }
   },
   "outputs": [
    {
     "data": {
      "text/plain": [
       "<Axes: >"
      ]
     },
     "execution_count": 46,
     "metadata": {},
     "output_type": "execute_result"
    },
    {
     "data": {
      "image/png": "[encoded data removed]",
      "text/plain": [
       "<Figure size 1600x1000 with 2 Axes>"
      ]
     },
     "metadata": {},
     "output_type": "display_data"
    }
   ],
   "source": [
    "import matplotlib.pyplot as plt\n",
    "import seaborn as sns\n",
    "\n",
    "plt.figure(figsize=(16,10))\n",
    "sns.heatmap(train.corr(),annot=True,cmap='viridis')"
   ]
  },
  {
   "cell_type": "code",
   "execution_count": 47,
   "metadata": {
    "execution": {
     "iopub.execute_input": "2023-06-11T21:18:34.399807Z",
     "iopub.status.busy": "2023-06-11T21:18:34.399515Z",
     "iopub.status.idle": "2023-06-11T21:18:34.406749Z",
     "shell.execute_reply": "2023-06-11T21:18:34.405458Z",
     "shell.execute_reply.started": "2023-06-11T21:18:34.399781Z"
    }
   },
   "outputs": [
    {
     "data": {
      "text/plain": [
       "Index(['Sex', 'Length', 'Diameter', 'Height', 'Weight', 'Shucked Weight',\n",
       "       'Viscera Weight', 'Shell Weight', 'Age', 'Area_Crab', 'Weight_Area',\n",
       "       'Length_Poly', 'Diameter_Poly'],\n",
       "      dtype='object')"
      ]
     },
     "execution_count": 47,
     "metadata": {},
     "output_type": "execute_result"
    }
   ],
   "source": [
    "train.columns"
   ]
  },
  {
   "cell_type": "code",
   "execution_count": 48,
   "metadata": {
    "execution": {
     "iopub.execute_input": "2023-06-11T21:18:34.408495Z",
     "iopub.status.busy": "2023-06-11T21:18:34.408203Z",
     "iopub.status.idle": "2023-06-11T21:18:34.539726Z",
     "shell.execute_reply": "2023-06-11T21:18:34.538945Z",
     "shell.execute_reply.started": "2023-06-11T21:18:34.408468Z"
    }
   },
   "outputs": [
    {
     "data": {
      "text/plain": [
       "<Axes: >"
      ]
     },
     "execution_count": 48,
     "metadata": {},
     "output_type": "execute_result"
    },
    {
     "data": {
      "image/png": "[encoded data removed]",
      "text/plain": [
       "<Figure size 400x300 with 1 Axes>"
      ]
     },
     "metadata": {},
     "output_type": "display_data"
    }
   ],
   "source": [
    "plt.figure(figsize=(4,3))\n",
    "sns.boxplot(train['Weight_Area'])"
   ]
  },
  {
   "cell_type": "code",
   "execution_count": 49,
   "metadata": {
    "execution": {
     "iopub.execute_input": "2023-06-11T21:18:34.541441Z",
     "iopub.status.busy": "2023-06-11T21:18:34.540950Z",
     "iopub.status.idle": "2023-06-11T21:18:34.551809Z",
     "shell.execute_reply": "2023-06-11T21:18:34.551067Z",
     "shell.execute_reply.started": "2023-06-11T21:18:34.541412Z"
    }
   },
   "outputs": [],
   "source": [
    "indices = train[(train['Weight_Area']>22) | (train['Weight_Area']<7) ].index\n",
    "train.loc[indices,'Weight_Area'] = train['Weight_Area'].mean()\n"
   ]
  },
  {
   "cell_type": "code",
   "execution_count": 50,
   "metadata": {
    "execution": {
     "iopub.execute_input": "2023-06-11T21:18:34.553642Z",
     "iopub.status.busy": "2023-06-11T21:18:34.553114Z",
     "iopub.status.idle": "2023-06-11T21:18:34.675343Z",
     "shell.execute_reply": "2023-06-11T21:18:34.674520Z",
     "shell.execute_reply.started": "2023-06-11T21:18:34.553611Z"
    }
   },
   "outputs": [
    {
     "data": {
      "text/plain": [
       "<Axes: >"
      ]
     },
     "execution_count": 50,
     "metadata": {},
     "output_type": "execute_result"
    },
    {
     "data": {
      "image/png": "[encoded data removed]",
      "text/plain": [
       "<Figure size 400x300 with 1 Axes>"
      ]
     },
     "metadata": {},
     "output_type": "display_data"
    }
   ],
   "source": [
    "plt.figure(figsize=(4,3))\n",
    "sns.boxplot(train['Weight_Area'])"
   ]
  },
  {
   "cell_type": "code",
   "execution_count": 51,
   "metadata": {
    "execution": {
     "iopub.execute_input": "2023-06-11T21:18:34.680221Z",
     "iopub.status.busy": "2023-06-11T21:18:34.679755Z",
     "iopub.status.idle": "2023-06-11T21:18:34.800307Z",
     "shell.execute_reply": "2023-06-11T21:18:34.799351Z",
     "shell.execute_reply.started": "2023-06-11T21:18:34.680190Z"
    }
   },
   "outputs": [
    {
     "data": {
      "text/plain": [
       "<Axes: >"
      ]
     },
     "execution_count": 51,
     "metadata": {},
     "output_type": "execute_result"
    },
    {
     "data": {
      "image/png": "[encoded data removed]",
      "text/plain": [
       "<Figure size 400x300 with 1 Axes>"
      ]
     },
     "metadata": {},
     "output_type": "display_data"
    }
   ],
   "source": [
    "plt.figure(figsize=(4,3))\n",
    "sns.boxplot(train['Area_Crab'])"
   ]
  },
  {
   "cell_type": "code",
   "execution_count": 52,
   "metadata": {
    "execution": {
     "iopub.execute_input": "2023-06-11T21:18:34.803722Z",
     "iopub.status.busy": "2023-06-11T21:18:34.803448Z",
     "iopub.status.idle": "2023-06-11T21:18:34.917077Z",
     "shell.execute_reply": "2023-06-11T21:18:34.916190Z",
     "shell.execute_reply.started": "2023-06-11T21:18:34.803688Z"
    }
   },
   "outputs": [
    {
     "data": {
      "text/plain": [
       "<Axes: >"
      ]
     },
     "execution_count": 52,
     "metadata": {},
     "output_type": "execute_result"
    },
    {
     "data": {
      "image/png": "[encoded data removed]",
      "text/plain": [
       "<Figure size 400x300 with 1 Axes>"
      ]
     },
     "metadata": {},
     "output_type": "display_data"
    }
   ],
   "source": [
    "plt.figure(figsize=(4,3))\n",
    "sns.boxplot(train['Diameter_Poly'])"
   ]
  },
  {
   "cell_type": "code",
   "execution_count": 53,
   "metadata": {
    "execution": {
     "iopub.execute_input": "2023-06-11T21:18:34.918925Z",
     "iopub.status.busy": "2023-06-11T21:18:34.918577Z",
     "iopub.status.idle": "2023-06-11T21:18:35.027174Z",
     "shell.execute_reply": "2023-06-11T21:18:35.026346Z",
     "shell.execute_reply.started": "2023-06-11T21:18:34.918892Z"
    }
   },
   "outputs": [
    {
     "data": {
      "text/plain": [
       "<Axes: >"
      ]
     },
     "execution_count": 53,
     "metadata": {},
     "output_type": "execute_result"
    },
    {
     "data": {
      "image/png": "[encoded data removed]",
      "text/plain": [
       "<Figure size 400x300 with 1 Axes>"
      ]
     },
     "metadata": {},
     "output_type": "display_data"
    }
   ],
   "source": [
    "indices = train[(train['Diameter_Poly']>2)].index\n",
    "train.loc[indices,'Diameter_Poly'] = train['Diameter_Poly'].mean()\n",
    "plt.figure(figsize=(4,3))\n",
    "sns.boxplot(train['Diameter_Poly'])"
   ]
  },
  {
   "cell_type": "code",
   "execution_count": 54,
   "metadata": {
    "execution": {
     "iopub.execute_input": "2023-06-11T21:18:35.028936Z",
     "iopub.status.busy": "2023-06-11T21:18:35.028210Z",
     "iopub.status.idle": "2023-06-11T21:18:35.135269Z",
     "shell.execute_reply": "2023-06-11T21:18:35.134299Z",
     "shell.execute_reply.started": "2023-06-11T21:18:35.028907Z"
    }
   },
   "outputs": [
    {
     "data": {
      "text/plain": [
       "<Axes: >"
      ]
     },
     "execution_count": 54,
     "metadata": {},
     "output_type": "execute_result"
    },
    {
     "data": {
      "image/png": "[encoded data removed]",
      "text/plain": [
       "<Figure size 400x300 with 1 Axes>"
      ]
     },
     "metadata": {},
     "output_type": "display_data"
    }
   ],
   "source": [
    "plt.figure(figsize=(4,3))\n",
    "sns.boxplot(train['Length_Poly'])"
   ]
  },
  {
   "cell_type": "code",
   "execution_count": 55,
   "metadata": {
    "execution": {
     "iopub.execute_input": "2023-06-11T21:18:35.136823Z",
     "iopub.status.busy": "2023-06-11T21:18:35.136503Z",
     "iopub.status.idle": "2023-06-11T21:18:35.243376Z",
     "shell.execute_reply": "2023-06-11T21:18:35.242385Z",
     "shell.execute_reply.started": "2023-06-11T21:18:35.136793Z"
    }
   },
   "outputs": [
    {
     "data": {
      "text/plain": [
       "<Axes: >"
      ]
     },
     "execution_count": 55,
     "metadata": {},
     "output_type": "execute_result"
    },
    {
     "data": {
      "image/png": "[encoded data removed]",
      "text/plain": [
       "<Figure size 400x300 with 1 Axes>"
      ]
     },
     "metadata": {},
     "output_type": "display_data"
    }
   ],
   "source": [
    "indices = train[(train['Length_Poly']>3.8)].index\n",
    "train.loc[indices,'Length_Poly'] = train['Length_Poly'].mean()\n",
    "plt.figure(figsize=(4,3))\n",
    "sns.boxplot(train['Length_Poly'])"
   ]
  },
  {
   "cell_type": "code",
   "execution_count": 56,
   "metadata": {
    "execution": {
     "iopub.execute_input": "2023-06-11T21:18:35.245136Z",
     "iopub.status.busy": "2023-06-11T21:18:35.244811Z",
     "iopub.status.idle": "2023-06-11T21:18:35.356305Z",
     "shell.execute_reply": "2023-06-11T21:18:35.355444Z",
     "shell.execute_reply.started": "2023-06-11T21:18:35.245107Z"
    }
   },
   "outputs": [
    {
     "data": {
      "text/plain": [
       "<Axes: >"
      ]
     },
     "execution_count": 56,
     "metadata": {},
     "output_type": "execute_result"
    },
    {
     "data": {
      "image/png": "[encoded data removed]",
      "text/plain": [
       "<Figure size 400x300 with 1 Axes>"
      ]
     },
     "metadata": {},
     "output_type": "display_data"
    }
   ],
   "source": [
    "plt.figure(figsize=(4,3))\n",
    "sns.boxplot(train['Length'])"
   ]
  },
  {
   "cell_type": "code",
   "execution_count": 57,
   "metadata": {
    "execution": {
     "iopub.execute_input": "2023-06-11T21:18:35.358199Z",
     "iopub.status.busy": "2023-06-11T21:18:35.357399Z",
     "iopub.status.idle": "2023-06-11T21:18:35.480498Z",
     "shell.execute_reply": "2023-06-11T21:18:35.479665Z",
     "shell.execute_reply.started": "2023-06-11T21:18:35.358169Z"
    }
   },
   "outputs": [
    {
     "data": {
      "text/plain": [
       "<Axes: >"
      ]
     },
     "execution_count": 57,
     "metadata": {},
     "output_type": "execute_result"
    },
    {
     "data": {
      "image/png": "[encoded data removed]",
      "text/plain": [
       "<Figure size 400x300 with 1 Axes>"
      ]
     },
     "metadata": {},
     "output_type": "display_data"
    }
   ],
   "source": [
    "indices = train[(train['Length']<0.7)].index\n",
    "train.loc[indices,'Length'] = train['Length'].mean()\n",
    "plt.figure(figsize=(4,3))\n",
    "sns.boxplot(train['Length'])"
   ]
  },
  {
   "cell_type": "code",
   "execution_count": 58,
   "metadata": {
    "execution": {
     "iopub.execute_input": "2023-06-11T21:18:35.482073Z",
     "iopub.status.busy": "2023-06-11T21:18:35.481541Z",
     "iopub.status.idle": "2023-06-11T21:18:35.599960Z",
     "shell.execute_reply": "2023-06-11T21:18:35.598527Z",
     "shell.execute_reply.started": "2023-06-11T21:18:35.482044Z"
    }
   },
   "outputs": [
    {
     "data": {
      "text/plain": [
       "<Axes: >"
      ]
     },
     "execution_count": 58,
     "metadata": {},
     "output_type": "execute_result"
    },
    {
     "data": {
      "image/png": "[encoded data removed]",
      "text/plain": [
       "<Figure size 400x300 with 1 Axes>"
      ]
     },
     "metadata": {},
     "output_type": "display_data"
    }
   ],
   "source": [
    "plt.figure(figsize=(4,3))\n",
    "sns.boxplot(train['Diameter'])"
   ]
  },
  {
   "cell_type": "code",
   "execution_count": 59,
   "metadata": {
    "execution": {
     "iopub.execute_input": "2023-06-11T21:18:35.602155Z",
     "iopub.status.busy": "2023-06-11T21:18:35.601315Z",
     "iopub.status.idle": "2023-06-11T21:18:35.728771Z",
     "shell.execute_reply": "2023-06-11T21:18:35.727865Z",
     "shell.execute_reply.started": "2023-06-11T21:18:35.602124Z"
    }
   },
   "outputs": [
    {
     "data": {
      "text/plain": [
       "<Axes: >"
      ]
     },
     "execution_count": 59,
     "metadata": {},
     "output_type": "execute_result"
    },
    {
     "data": {
      "image/png": "[encoded data removed]",
      "text/plain": [
       "<Figure size 400x300 with 1 Axes>"
      ]
     },
     "metadata": {},
     "output_type": "display_data"
    }
   ],
   "source": [
    "indices = train[(train['Diameter']<0.6)].index\n",
    "train.loc[indices,'Diameter'] = train['Diameter'].mean()\n",
    "plt.figure(figsize=(4,3))\n",
    "sns.boxplot(train['Diameter'])"
   ]
  },
  {
   "cell_type": "code",
   "execution_count": 60,
   "metadata": {
    "execution": {
     "iopub.execute_input": "2023-06-11T21:18:35.731966Z",
     "iopub.status.busy": "2023-06-11T21:18:35.731679Z",
     "iopub.status.idle": "2023-06-11T21:18:35.852881Z",
     "shell.execute_reply": "2023-06-11T21:18:35.852180Z",
     "shell.execute_reply.started": "2023-06-11T21:18:35.731941Z"
    }
   },
   "outputs": [
    {
     "data": {
      "text/plain": [
       "<Axes: >"
      ]
     },
     "execution_count": 60,
     "metadata": {},
     "output_type": "execute_result"
    },
    {
     "data": {
      "image/png": "[encoded data removed]",
      "text/plain": [
       "<Figure size 400x300 with 1 Axes>"
      ]
     },
     "metadata": {},
     "output_type": "display_data"
    }
   ],
   "source": [
    "plt.figure(figsize=(4,3))\n",
    "sns.boxplot(train['Height'])"
   ]
  },
  {
   "cell_type": "code",
   "execution_count": 61,
   "metadata": {
    "execution": {
     "iopub.execute_input": "2023-06-11T21:18:35.854198Z",
     "iopub.status.busy": "2023-06-11T21:18:35.853846Z",
     "iopub.status.idle": "2023-06-11T21:18:35.966609Z",
     "shell.execute_reply": "2023-06-11T21:18:35.965885Z",
     "shell.execute_reply.started": "2023-06-11T21:18:35.854172Z"
    }
   },
   "outputs": [
    {
     "data": {
      "text/plain": [
       "<Axes: >"
      ]
     },
     "execution_count": 61,
     "metadata": {},
     "output_type": "execute_result"
    },
    {
     "data": {
      "image/png": "[encoded data removed]",
      "text/plain": [
       "<Figure size 400x300 with 1 Axes>"
      ]
     },
     "metadata": {},
     "output_type": "display_data"
    }
   ],
   "source": [
    "indices = train[(train['Height']>0.58) | (train['Height']<0.13)].index\n",
    "train.loc[indices,'Height'] = train['Height'].mean()\n",
    "plt.figure(figsize=(4,3))\n",
    "sns.boxplot(train['Height'])"
   ]
  },
  {
   "cell_type": "code",
   "execution_count": 62,
   "metadata": {
    "execution": {
     "iopub.execute_input": "2023-06-11T21:18:35.967874Z",
     "iopub.status.busy": "2023-06-11T21:18:35.967536Z",
     "iopub.status.idle": "2023-06-11T21:18:36.081851Z",
     "shell.execute_reply": "2023-06-11T21:18:36.080880Z",
     "shell.execute_reply.started": "2023-06-11T21:18:35.967842Z"
    }
   },
   "outputs": [
    {
     "data": {
      "text/plain": [
       "<Axes: >"
      ]
     },
     "execution_count": 62,
     "metadata": {},
     "output_type": "execute_result"
    },
    {
     "data": {
      "image/png": "[encoded data removed]",
      "text/plain": [
       "<Figure size 400x300 with 1 Axes>"
      ]
     },
     "metadata": {},
     "output_type": "display_data"
    }
   ],
   "source": [
    "plt.figure(figsize=(4,3))\n",
    "sns.boxplot(train['Weight'])"
   ]
  },
  {
   "cell_type": "code",
   "execution_count": 63,
   "metadata": {
    "execution": {
     "iopub.execute_input": "2023-06-11T21:18:36.083577Z",
     "iopub.status.busy": "2023-06-11T21:18:36.083071Z",
     "iopub.status.idle": "2023-06-11T21:18:36.205472Z",
     "shell.execute_reply": "2023-06-11T21:18:36.204460Z",
     "shell.execute_reply.started": "2023-06-11T21:18:36.083549Z"
    }
   },
   "outputs": [
    {
     "data": {
      "text/plain": [
       "<Axes: >"
      ]
     },
     "execution_count": 63,
     "metadata": {},
     "output_type": "execute_result"
    },
    {
     "data": {
      "image/png": "[encoded data removed]",
      "text/plain": [
       "<Figure size 400x300 with 1 Axes>"
      ]
     },
     "metadata": {},
     "output_type": "display_data"
    }
   ],
   "source": [
    "indices = train[(train['Weight']>60)].index\n",
    "train.loc[indices,'Weight'] = train['Weight'].mean()\n",
    "plt.figure(figsize=(4,3))\n",
    "sns.boxplot(train['Weight'])"
   ]
  },
  {
   "cell_type": "code",
   "execution_count": 64,
   "metadata": {
    "execution": {
     "iopub.execute_input": "2023-06-11T21:18:36.207362Z",
     "iopub.status.busy": "2023-06-11T21:18:36.207017Z",
     "iopub.status.idle": "2023-06-11T21:18:36.323025Z",
     "shell.execute_reply": "2023-06-11T21:18:36.322188Z",
     "shell.execute_reply.started": "2023-06-11T21:18:36.207330Z"
    }
   },
   "outputs": [
    {
     "data": {
      "text/plain": [
       "<Axes: >"
      ]
     },
     "execution_count": 64,
     "metadata": {},
     "output_type": "execute_result"
    },
    {
     "data": {
      "image/png": "[encoded data removed]",
      "text/plain": [
       "<Figure size 400x300 with 1 Axes>"
      ]
     },
     "metadata": {},
     "output_type": "display_data"
    }
   ],
   "source": [
    "plt.figure(figsize=(4,3))\n",
    "sns.boxplot(train['Shucked Weight'])"
   ]
  },
  {
   "cell_type": "code",
   "execution_count": 65,
   "metadata": {
    "execution": {
     "iopub.execute_input": "2023-06-11T21:18:36.324960Z",
     "iopub.status.busy": "2023-06-11T21:18:36.324431Z",
     "iopub.status.idle": "2023-06-11T21:18:36.443092Z",
     "shell.execute_reply": "2023-06-11T21:18:36.442066Z",
     "shell.execute_reply.started": "2023-06-11T21:18:36.324928Z"
    }
   },
   "outputs": [
    {
     "data": {
      "text/plain": [
       "<Axes: >"
      ]
     },
     "execution_count": 65,
     "metadata": {},
     "output_type": "execute_result"
    },
    {
     "data": {
      "image/png": "[encoded data removed]",
      "text/plain": [
       "<Figure size 400x300 with 1 Axes>"
      ]
     },
     "metadata": {},
     "output_type": "display_data"
    }
   ],
   "source": [
    "indices = train[(train['Shucked Weight']>28)].index\n",
    "train.loc[indices,'Shucked Weight'] = train['Shucked Weight'].mean()\n",
    "plt.figure(figsize=(4,3))\n",
    "sns.boxplot(train['Shucked Weight'])"
   ]
  },
  {
   "cell_type": "code",
   "execution_count": 66,
   "metadata": {
    "execution": {
     "iopub.execute_input": "2023-06-11T21:18:36.444707Z",
     "iopub.status.busy": "2023-06-11T21:18:36.444370Z",
     "iopub.status.idle": "2023-06-11T21:18:36.563580Z",
     "shell.execute_reply": "2023-06-11T21:18:36.562552Z",
     "shell.execute_reply.started": "2023-06-11T21:18:36.444677Z"
    }
   },
   "outputs": [
    {
     "data": {
      "text/plain": [
       "<Axes: >"
      ]
     },
     "execution_count": 66,
     "metadata": {},
     "output_type": "execute_result"
    },
    {
     "data": {
      "image/png": "[encoded data removed]",
      "text/plain": [
       "<Figure size 400x300 with 1 Axes>"
      ]
     },
     "metadata": {},
     "output_type": "display_data"
    }
   ],
   "source": [
    "plt.figure(figsize=(4,3))\n",
    "sns.boxplot(train['Viscera Weight'])"
   ]
  },
  {
   "cell_type": "code",
   "execution_count": 67,
   "metadata": {
    "execution": {
     "iopub.execute_input": "2023-06-11T21:18:36.566821Z",
     "iopub.status.busy": "2023-06-11T21:18:36.566463Z",
     "iopub.status.idle": "2023-06-11T21:18:36.689747Z",
     "shell.execute_reply": "2023-06-11T21:18:36.688373Z",
     "shell.execute_reply.started": "2023-06-11T21:18:36.566793Z"
    }
   },
   "outputs": [
    {
     "data": {
      "text/plain": [
       "<Axes: >"
      ]
     },
     "execution_count": 67,
     "metadata": {},
     "output_type": "execute_result"
    },
    {
     "data": {
      "image/png": "[encoded data removed]",
      "text/plain": [
       "<Figure size 400x300 with 1 Axes>"
      ]
     },
     "metadata": {},
     "output_type": "display_data"
    }
   ],
   "source": [
    "indices = train[(train['Viscera Weight']>13)].index\n",
    "train.loc[indices,'Viscera Weight'] = train['Viscera Weight'].mean()\n",
    "plt.figure(figsize=(4,3))\n",
    "sns.boxplot(train['Viscera Weight'])"
   ]
  },
  {
   "cell_type": "code",
   "execution_count": 68,
   "metadata": {
    "execution": {
     "iopub.execute_input": "2023-06-11T21:18:36.691432Z",
     "iopub.status.busy": "2023-06-11T21:18:36.691095Z",
     "iopub.status.idle": "2023-06-11T21:18:36.813938Z",
     "shell.execute_reply": "2023-06-11T21:18:36.812469Z",
     "shell.execute_reply.started": "2023-06-11T21:18:36.691402Z"
    }
   },
   "outputs": [
    {
     "data": {
      "text/plain": [
       "<Axes: >"
      ]
     },
     "execution_count": 68,
     "metadata": {},
     "output_type": "execute_result"
    },
    {
     "data": {
      "image/png": "[encoded data removed]",
      "text/plain": [
       "<Figure size 400x300 with 1 Axes>"
      ]
     },
     "metadata": {},
     "output_type": "display_data"
    }
   ],
   "source": [
    "plt.figure(figsize=(4,3))\n",
    "sns.boxplot(train['Shell Weight'])"
   ]
  },
  {
   "cell_type": "code",
   "execution_count": 69,
   "metadata": {
    "execution": {
     "iopub.execute_input": "2023-06-11T21:18:36.819607Z",
     "iopub.status.busy": "2023-06-11T21:18:36.819312Z",
     "iopub.status.idle": "2023-06-11T21:18:36.947298Z",
     "shell.execute_reply": "2023-06-11T21:18:36.946160Z",
     "shell.execute_reply.started": "2023-06-11T21:18:36.819582Z"
    }
   },
   "outputs": [
    {
     "data": {
      "text/plain": [
       "<Axes: >"
      ]
     },
     "execution_count": 69,
     "metadata": {},
     "output_type": "execute_result"
    },
    {
     "data": {
      "image/png": "[encoded data removed]",
      "text/plain": [
       "<Figure size 400x300 with 1 Axes>"
      ]
     },
     "metadata": {},
     "output_type": "display_data"
    }
   ],
   "source": [
    "indices = train[(train['Shell Weight']>16)].index\n",
    "train.loc[indices,'Shell Weight'] = train['Shell Weight'].mean()\n",
    "plt.figure(figsize=(4,3))\n",
    "sns.boxplot(train['Shell Weight'])"
   ]
  },
  {
   "cell_type": "code",
   "execution_count": 81,
   "metadata": {
    "execution": {
     "iopub.execute_input": "2023-06-11T21:28:09.536078Z",
     "iopub.status.busy": "2023-06-11T21:28:09.535239Z",
     "iopub.status.idle": "2023-06-11T21:28:09.547472Z",
     "shell.execute_reply": "2023-06-11T21:28:09.546823Z",
     "shell.execute_reply.started": "2023-06-11T21:28:09.535975Z"
    }
   },
   "outputs": [
    {
     "data": {
      "text/plain": [
       "Index(['Sex', 'Length', 'Diameter', 'Height', 'Weight', 'Shucked Weight',\n",
       "       'Viscera Weight', 'Shell Weight', 'Age', 'Area_Crab', 'Weight_Area',\n",
       "       'Length_Poly', 'Diameter_Poly'],\n",
       "      dtype='object')"
      ]
     },
     "execution_count": 81,
     "metadata": {},
     "output_type": "execute_result"
    }
   ],
   "source": [
    "train.columns"
   ]
  },
  {
   "cell_type": "code",
   "execution_count": 84,
   "metadata": {
    "execution": {
     "iopub.execute_input": "2023-06-11T21:32:44.983234Z",
     "iopub.status.busy": "2023-06-11T21:32:44.982885Z",
     "iopub.status.idle": "2023-06-11T21:32:45.044244Z",
     "shell.execute_reply": "2023-06-11T21:32:45.043027Z",
     "shell.execute_reply.started": "2023-06-11T21:32:44.983207Z"
    }
   },
   "outputs": [
    {
     "data": {
      "text/html": [
       "<div>\n",
       "<style scoped>\n",
       "    .dataframe tbody tr th:only-of-type {\n",
       "        vertical-align: middle;\n",
       "    }\n",
       "\n",
       "    .dataframe tbody tr th {\n",
       "        vertical-align: top;\n",
       "    }\n",
       "\n",
       "    .dataframe thead th {\n",
       "        text-align: right;\n",
       "    }\n",
       "</style>\n",
       "<table border=\"1\" class=\"dataframe\">\n",
       "  <thead>\n",
       "    <tr style=\"text-align: right;\">\n",
       "      <th></th>\n",
       "      <th>Sex</th>\n",
       "      <th>Length</th>\n",
       "      <th>Diameter</th>\n",
       "      <th>Height</th>\n",
       "      <th>Weight</th>\n",
       "      <th>Shucked Weight</th>\n",
       "      <th>Viscera Weight</th>\n",
       "      <th>Shell Weight</th>\n",
       "      <th>Age</th>\n",
       "      <th>Area_Crab</th>\n",
       "      <th>...</th>\n",
       "      <th>log_Diameter</th>\n",
       "      <th>log_Height</th>\n",
       "      <th>log_Weight</th>\n",
       "      <th>log_Shucked Weight</th>\n",
       "      <th>log_Viscera Weight</th>\n",
       "      <th>log_Shell Weight</th>\n",
       "      <th>log_Area_Crab</th>\n",
       "      <th>log_Weight_Area</th>\n",
       "      <th>log_Length_Poly</th>\n",
       "      <th>log_Diameter_Poly</th>\n",
       "    </tr>\n",
       "    <tr>\n",
       "      <th>id</th>\n",
       "      <th></th>\n",
       "      <th></th>\n",
       "      <th></th>\n",
       "      <th></th>\n",
       "      <th></th>\n",
       "      <th></th>\n",
       "      <th></th>\n",
       "      <th></th>\n",
       "      <th></th>\n",
       "      <th></th>\n",
       "      <th></th>\n",
       "      <th></th>\n",
       "      <th></th>\n",
       "      <th></th>\n",
       "      <th></th>\n",
       "      <th></th>\n",
       "      <th></th>\n",
       "      <th></th>\n",
       "      <th></th>\n",
       "      <th></th>\n",
       "      <th></th>\n",
       "    </tr>\n",
       "  </thead>\n",
       "  <tbody>\n",
       "    <tr>\n",
       "      <th>0</th>\n",
       "      <td>1</td>\n",
       "      <td>1.5250</td>\n",
       "      <td>1.1750</td>\n",
       "      <td>0.3750</td>\n",
       "      <td>28.973189</td>\n",
       "      <td>12.728926</td>\n",
       "      <td>6.647958</td>\n",
       "      <td>8.348928</td>\n",
       "      <td>9</td>\n",
       "      <td>1.791875</td>\n",
       "      <td>...</td>\n",
       "      <td>0.161268</td>\n",
       "      <td>-0.980829</td>\n",
       "      <td>3.366371</td>\n",
       "      <td>2.543877</td>\n",
       "      <td>1.894310</td>\n",
       "      <td>2.122133</td>\n",
       "      <td>0.583263</td>\n",
       "      <td>2.783108</td>\n",
       "      <td>0.843989</td>\n",
       "      <td>0.322536</td>\n",
       "    </tr>\n",
       "    <tr>\n",
       "      <th>1</th>\n",
       "      <td>1</td>\n",
       "      <td>1.1000</td>\n",
       "      <td>0.8250</td>\n",
       "      <td>0.2750</td>\n",
       "      <td>10.418441</td>\n",
       "      <td>4.521745</td>\n",
       "      <td>2.324659</td>\n",
       "      <td>3.401940</td>\n",
       "      <td>8</td>\n",
       "      <td>0.907500</td>\n",
       "      <td>...</td>\n",
       "      <td>-0.192372</td>\n",
       "      <td>-1.290984</td>\n",
       "      <td>2.343577</td>\n",
       "      <td>1.508898</td>\n",
       "      <td>0.843573</td>\n",
       "      <td>1.224346</td>\n",
       "      <td>-0.097062</td>\n",
       "      <td>2.440639</td>\n",
       "      <td>0.190620</td>\n",
       "      <td>-0.384744</td>\n",
       "    </tr>\n",
       "    <tr>\n",
       "      <th>2</th>\n",
       "      <td>2</td>\n",
       "      <td>1.3875</td>\n",
       "      <td>1.1125</td>\n",
       "      <td>0.3750</td>\n",
       "      <td>24.777463</td>\n",
       "      <td>11.339800</td>\n",
       "      <td>5.556502</td>\n",
       "      <td>6.662133</td>\n",
       "      <td>9</td>\n",
       "      <td>1.543594</td>\n",
       "      <td>...</td>\n",
       "      <td>0.106610</td>\n",
       "      <td>-0.980829</td>\n",
       "      <td>3.209934</td>\n",
       "      <td>2.428319</td>\n",
       "      <td>1.714969</td>\n",
       "      <td>1.896440</td>\n",
       "      <td>0.434113</td>\n",
       "      <td>2.775821</td>\n",
       "      <td>0.655007</td>\n",
       "      <td>0.213219</td>\n",
       "    </tr>\n",
       "    <tr>\n",
       "      <th>3</th>\n",
       "      <td>0</td>\n",
       "      <td>1.7000</td>\n",
       "      <td>1.4125</td>\n",
       "      <td>0.5000</td>\n",
       "      <td>50.660556</td>\n",
       "      <td>20.354941</td>\n",
       "      <td>10.991839</td>\n",
       "      <td>14.996885</td>\n",
       "      <td>11</td>\n",
       "      <td>2.401250</td>\n",
       "      <td>...</td>\n",
       "      <td>0.345361</td>\n",
       "      <td>-0.693147</td>\n",
       "      <td>3.925148</td>\n",
       "      <td>3.013324</td>\n",
       "      <td>2.397153</td>\n",
       "      <td>2.707843</td>\n",
       "      <td>0.875989</td>\n",
       "      <td>3.049158</td>\n",
       "      <td>1.061257</td>\n",
       "      <td>0.690722</td>\n",
       "    </tr>\n",
       "    <tr>\n",
       "      <th>4</th>\n",
       "      <td>1</td>\n",
       "      <td>1.2500</td>\n",
       "      <td>1.0125</td>\n",
       "      <td>0.3375</td>\n",
       "      <td>23.289114</td>\n",
       "      <td>11.977664</td>\n",
       "      <td>4.507570</td>\n",
       "      <td>5.953395</td>\n",
       "      <td>8</td>\n",
       "      <td>1.265625</td>\n",
       "      <td>...</td>\n",
       "      <td>0.012423</td>\n",
       "      <td>-1.086190</td>\n",
       "      <td>3.147986</td>\n",
       "      <td>2.483044</td>\n",
       "      <td>1.505758</td>\n",
       "      <td>1.783962</td>\n",
       "      <td>0.235566</td>\n",
       "      <td>2.912420</td>\n",
       "      <td>0.446287</td>\n",
       "      <td>0.024845</td>\n",
       "    </tr>\n",
       "    <tr>\n",
       "      <th>...</th>\n",
       "      <td>...</td>\n",
       "      <td>...</td>\n",
       "      <td>...</td>\n",
       "      <td>...</td>\n",
       "      <td>...</td>\n",
       "      <td>...</td>\n",
       "      <td>...</td>\n",
       "      <td>...</td>\n",
       "      <td>...</td>\n",
       "      <td>...</td>\n",
       "      <td>...</td>\n",
       "      <td>...</td>\n",
       "      <td>...</td>\n",
       "      <td>...</td>\n",
       "      <td>...</td>\n",
       "      <td>...</td>\n",
       "      <td>...</td>\n",
       "      <td>...</td>\n",
       "      <td>...</td>\n",
       "      <td>...</td>\n",
       "      <td>...</td>\n",
       "    </tr>\n",
       "    <tr>\n",
       "      <th>74046</th>\n",
       "      <td>0</td>\n",
       "      <td>1.6625</td>\n",
       "      <td>1.2625</td>\n",
       "      <td>0.4375</td>\n",
       "      <td>50.660556</td>\n",
       "      <td>20.680960</td>\n",
       "      <td>10.361742</td>\n",
       "      <td>12.332033</td>\n",
       "      <td>10</td>\n",
       "      <td>2.098906</td>\n",
       "      <td>...</td>\n",
       "      <td>0.233094</td>\n",
       "      <td>-0.826679</td>\n",
       "      <td>3.925148</td>\n",
       "      <td>3.029213</td>\n",
       "      <td>2.338120</td>\n",
       "      <td>2.512200</td>\n",
       "      <td>0.741416</td>\n",
       "      <td>2.727480</td>\n",
       "      <td>1.016645</td>\n",
       "      <td>0.466188</td>\n",
       "    </tr>\n",
       "    <tr>\n",
       "      <th>74047</th>\n",
       "      <td>1</td>\n",
       "      <td>1.0750</td>\n",
       "      <td>0.8625</td>\n",
       "      <td>0.2750</td>\n",
       "      <td>10.446791</td>\n",
       "      <td>4.323299</td>\n",
       "      <td>2.296310</td>\n",
       "      <td>3.543687</td>\n",
       "      <td>6</td>\n",
       "      <td>0.927188</td>\n",
       "      <td>...</td>\n",
       "      <td>-0.147920</td>\n",
       "      <td>-1.290984</td>\n",
       "      <td>2.346295</td>\n",
       "      <td>1.464019</td>\n",
       "      <td>0.831303</td>\n",
       "      <td>1.265168</td>\n",
       "      <td>-0.075599</td>\n",
       "      <td>2.421894</td>\n",
       "      <td>0.144641</td>\n",
       "      <td>-0.295840</td>\n",
       "    </tr>\n",
       "    <tr>\n",
       "      <th>74048</th>\n",
       "      <td>0</td>\n",
       "      <td>1.4875</td>\n",
       "      <td>1.2000</td>\n",
       "      <td>0.4125</td>\n",
       "      <td>29.483480</td>\n",
       "      <td>12.303683</td>\n",
       "      <td>7.540967</td>\n",
       "      <td>8.079607</td>\n",
       "      <td>10</td>\n",
       "      <td>1.785000</td>\n",
       "      <td>...</td>\n",
       "      <td>0.182322</td>\n",
       "      <td>-0.885519</td>\n",
       "      <td>3.383830</td>\n",
       "      <td>2.509899</td>\n",
       "      <td>2.020350</td>\n",
       "      <td>2.089343</td>\n",
       "      <td>0.579418</td>\n",
       "      <td>2.804412</td>\n",
       "      <td>0.794194</td>\n",
       "      <td>0.364643</td>\n",
       "    </tr>\n",
       "    <tr>\n",
       "      <th>74049</th>\n",
       "      <td>1</td>\n",
       "      <td>1.2125</td>\n",
       "      <td>0.9625</td>\n",
       "      <td>0.3125</td>\n",
       "      <td>16.768729</td>\n",
       "      <td>8.972617</td>\n",
       "      <td>2.919999</td>\n",
       "      <td>4.280774</td>\n",
       "      <td>8</td>\n",
       "      <td>1.167031</td>\n",
       "      <td>...</td>\n",
       "      <td>-0.038221</td>\n",
       "      <td>-1.163151</td>\n",
       "      <td>2.819516</td>\n",
       "      <td>2.194177</td>\n",
       "      <td>1.071583</td>\n",
       "      <td>1.454134</td>\n",
       "      <td>0.154463</td>\n",
       "      <td>2.665053</td>\n",
       "      <td>0.385369</td>\n",
       "      <td>-0.076442</td>\n",
       "    </tr>\n",
       "    <tr>\n",
       "      <th>74050</th>\n",
       "      <td>1</td>\n",
       "      <td>0.9125</td>\n",
       "      <td>0.6750</td>\n",
       "      <td>0.2000</td>\n",
       "      <td>5.386405</td>\n",
       "      <td>2.055339</td>\n",
       "      <td>1.034757</td>\n",
       "      <td>1.700970</td>\n",
       "      <td>6</td>\n",
       "      <td>0.615938</td>\n",
       "      <td>...</td>\n",
       "      <td>-0.393043</td>\n",
       "      <td>-1.609438</td>\n",
       "      <td>1.683878</td>\n",
       "      <td>0.720441</td>\n",
       "      <td>0.034166</td>\n",
       "      <td>0.531199</td>\n",
       "      <td>-0.484610</td>\n",
       "      <td>2.168488</td>\n",
       "      <td>-0.183134</td>\n",
       "      <td>-0.786085</td>\n",
       "    </tr>\n",
       "  </tbody>\n",
       "</table>\n",
       "<p>74051 rows × 24 columns</p>\n",
       "</div>"
      ],
      "text/plain": [
       "       Sex  Length  Diameter  Height     Weight  Shucked Weight  \\\n",
       "id                                                                \n",
       "0        1  1.5250    1.1750  0.3750  28.973189       12.728926   \n",
       "1        1  1.1000    0.8250  0.2750  10.418441        4.521745   \n",
       "2        2  1.3875    1.1125  0.3750  24.777463       11.339800   \n",
       "3        0  1.7000    1.4125  0.5000  50.660556       20.354941   \n",
       "4        1  1.2500    1.0125  0.3375  23.289114       11.977664   \n",
       "...    ...     ...       ...     ...        ...             ...   \n",
       "74046    0  1.6625    1.2625  0.4375  50.660556       20.680960   \n",
       "74047    1  1.0750    0.8625  0.2750  10.446791        4.323299   \n",
       "74048    0  1.4875    1.2000  0.4125  29.483480       12.303683   \n",
       "74049    1  1.2125    0.9625  0.3125  16.768729        8.972617   \n",
       "74050    1  0.9125    0.6750  0.2000   5.386405        2.055339   \n",
       "\n",
       "       Viscera Weight  Shell Weight  Age  Area_Crab  ...  log_Diameter  \\\n",
       "id                                                   ...                 \n",
       "0            6.647958      8.348928    9   1.791875  ...      0.161268   \n",
       "1            2.324659      3.401940    8   0.907500  ...     -0.192372   \n",
       "2            5.556502      6.662133    9   1.543594  ...      0.106610   \n",
       "3           10.991839     14.996885   11   2.401250  ...      0.345361   \n",
       "4            4.507570      5.953395    8   1.265625  ...      0.012423   \n",
       "...               ...           ...  ...        ...  ...           ...   \n",
       "74046       10.361742     12.332033   10   2.098906  ...      0.233094   \n",
       "74047        2.296310      3.543687    6   0.927188  ...     -0.147920   \n",
       "74048        7.540967      8.079607   10   1.785000  ...      0.182322   \n",
       "74049        2.919999      4.280774    8   1.167031  ...     -0.038221   \n",
       "74050        1.034757      1.700970    6   0.615938  ...     -0.393043   \n",
       "\n",
       "       log_Height  log_Weight  log_Shucked Weight  log_Viscera Weight  \\\n",
       "id                                                                      \n",
       "0       -0.980829    3.366371            2.543877            1.894310   \n",
       "1       -1.290984    2.343577            1.508898            0.843573   \n",
       "2       -0.980829    3.209934            2.428319            1.714969   \n",
       "3       -0.693147    3.925148            3.013324            2.397153   \n",
       "4       -1.086190    3.147986            2.483044            1.505758   \n",
       "...           ...         ...                 ...                 ...   \n",
       "74046   -0.826679    3.925148            3.029213            2.338120   \n",
       "74047   -1.290984    2.346295            1.464019            0.831303   \n",
       "74048   -0.885519    3.383830            2.509899            2.020350   \n",
       "74049   -1.163151    2.819516            2.194177            1.071583   \n",
       "74050   -1.609438    1.683878            0.720441            0.034166   \n",
       "\n",
       "       log_Shell Weight  log_Area_Crab  log_Weight_Area  log_Length_Poly  \\\n",
       "id                                                                         \n",
       "0              2.122133       0.583263         2.783108         0.843989   \n",
       "1              1.224346      -0.097062         2.440639         0.190620   \n",
       "2              1.896440       0.434113         2.775821         0.655007   \n",
       "3              2.707843       0.875989         3.049158         1.061257   \n",
       "4              1.783962       0.235566         2.912420         0.446287   \n",
       "...                 ...            ...              ...              ...   \n",
       "74046          2.512200       0.741416         2.727480         1.016645   \n",
       "74047          1.265168      -0.075599         2.421894         0.144641   \n",
       "74048          2.089343       0.579418         2.804412         0.794194   \n",
       "74049          1.454134       0.154463         2.665053         0.385369   \n",
       "74050          0.531199      -0.484610         2.168488        -0.183134   \n",
       "\n",
       "       log_Diameter_Poly  \n",
       "id                        \n",
       "0               0.322536  \n",
       "1              -0.384744  \n",
       "2               0.213219  \n",
       "3               0.690722  \n",
       "4               0.024845  \n",
       "...                  ...  \n",
       "74046           0.466188  \n",
       "74047          -0.295840  \n",
       "74048           0.364643  \n",
       "74049          -0.076442  \n",
       "74050          -0.786085  \n",
       "\n",
       "[74051 rows x 24 columns]"
      ]
     },
     "execution_count": 84,
     "metadata": {},
     "output_type": "execute_result"
    }
   ],
   "source": [
    "import numpy as np\n",
    "\n",
    "# Veri setindeki tüm bağımsız değişkenleri içeren bir liste\n",
    "bagimsiz_degiskenler = ['Length', 'Diameter', 'Height', 'Weight', 'Shucked Weight',\n",
    "       'Viscera Weight', 'Shell Weight', 'Area_Crab', 'Weight_Area',\n",
    "       'Length_Poly', 'Diameter_Poly']\n",
    "# Log dönüşümü uygulanmış değişkenleri depolamak için bir DataFrame\n",
    "log_degiskenler = pd.DataFrame()\n",
    "\n",
    "# Tüm bağımsız değişkenleri log dönüşümüne tabi tutma döngüsü\n",
    "for degisken in bagimsiz_degiskenler:\n",
    "    log_degiskenler['log_' + degisken] = np.log(train[degisken])\n",
    "\n",
    "# Log dönüşümü yapılan değişkenleri mevcut veri setine eklemek için pd.merge kullanma\n",
    "train = pd.merge(train, log_degiskenler, left_index=True, right_index=True)\n",
    "\n",
    "# Sonuçları kontrol etmek için veri setini yazdırma\n",
    "train\n"
   ]
  },
  {
   "cell_type": "code",
   "execution_count": 85,
   "metadata": {
    "execution": {
     "iopub.execute_input": "2023-06-11T21:33:41.699127Z",
     "iopub.status.busy": "2023-06-11T21:33:41.698694Z",
     "iopub.status.idle": "2023-06-11T21:33:41.745786Z",
     "shell.execute_reply": "2023-06-11T21:33:41.745201Z",
     "shell.execute_reply.started": "2023-06-11T21:33:41.699099Z"
    }
   },
   "outputs": [
    {
     "name": "stderr",
     "output_type": "stream",
     "text": [
      "/opt/conda/lib/python3.10/site-packages/pandas/core/arraylike.py:402: RuntimeWarning: divide by zero encountered in log\n",
      "  result = getattr(ufunc, method)(*inputs, **kwargs)\n"
     ]
    },
    {
     "data": {
      "text/html": [
       "<div>\n",
       "<style scoped>\n",
       "    .dataframe tbody tr th:only-of-type {\n",
       "        vertical-align: middle;\n",
       "    }\n",
       "\n",
       "    .dataframe tbody tr th {\n",
       "        vertical-align: top;\n",
       "    }\n",
       "\n",
       "    .dataframe thead th {\n",
       "        text-align: right;\n",
       "    }\n",
       "</style>\n",
       "<table border=\"1\" class=\"dataframe\">\n",
       "  <thead>\n",
       "    <tr style=\"text-align: right;\">\n",
       "      <th></th>\n",
       "      <th>Sex</th>\n",
       "      <th>Length</th>\n",
       "      <th>Diameter</th>\n",
       "      <th>Height</th>\n",
       "      <th>Weight</th>\n",
       "      <th>Shucked Weight</th>\n",
       "      <th>Viscera Weight</th>\n",
       "      <th>Shell Weight</th>\n",
       "      <th>Area_Crab</th>\n",
       "      <th>Weight_Area</th>\n",
       "      <th>...</th>\n",
       "      <th>log_Diameter</th>\n",
       "      <th>log_Height</th>\n",
       "      <th>log_Weight</th>\n",
       "      <th>log_Shucked Weight</th>\n",
       "      <th>log_Viscera Weight</th>\n",
       "      <th>log_Shell Weight</th>\n",
       "      <th>log_Area_Crab</th>\n",
       "      <th>log_Weight_Area</th>\n",
       "      <th>log_Length_Poly</th>\n",
       "      <th>log_Diameter_Poly</th>\n",
       "    </tr>\n",
       "    <tr>\n",
       "      <th>id</th>\n",
       "      <th></th>\n",
       "      <th></th>\n",
       "      <th></th>\n",
       "      <th></th>\n",
       "      <th></th>\n",
       "      <th></th>\n",
       "      <th></th>\n",
       "      <th></th>\n",
       "      <th></th>\n",
       "      <th></th>\n",
       "      <th></th>\n",
       "      <th></th>\n",
       "      <th></th>\n",
       "      <th></th>\n",
       "      <th></th>\n",
       "      <th></th>\n",
       "      <th></th>\n",
       "      <th></th>\n",
       "      <th></th>\n",
       "      <th></th>\n",
       "      <th></th>\n",
       "    </tr>\n",
       "  </thead>\n",
       "  <tbody>\n",
       "    <tr>\n",
       "      <th>74051</th>\n",
       "      <td>1</td>\n",
       "      <td>1.0500</td>\n",
       "      <td>0.7625</td>\n",
       "      <td>0.2750</td>\n",
       "      <td>8.618248</td>\n",
       "      <td>3.657085</td>\n",
       "      <td>1.729319</td>\n",
       "      <td>2.721552</td>\n",
       "      <td>0.800625</td>\n",
       "      <td>10.764400</td>\n",
       "      <td>...</td>\n",
       "      <td>-0.271153</td>\n",
       "      <td>-1.290984</td>\n",
       "      <td>2.153882</td>\n",
       "      <td>1.296667</td>\n",
       "      <td>0.547728</td>\n",
       "      <td>1.001202</td>\n",
       "      <td>-0.222363</td>\n",
       "      <td>2.376244</td>\n",
       "      <td>0.097580</td>\n",
       "      <td>-0.542306</td>\n",
       "    </tr>\n",
       "    <tr>\n",
       "      <th>74052</th>\n",
       "      <td>1</td>\n",
       "      <td>1.1625</td>\n",
       "      <td>0.8875</td>\n",
       "      <td>0.2750</td>\n",
       "      <td>15.507176</td>\n",
       "      <td>7.030676</td>\n",
       "      <td>3.246018</td>\n",
       "      <td>3.968930</td>\n",
       "      <td>1.031719</td>\n",
       "      <td>15.030430</td>\n",
       "      <td>...</td>\n",
       "      <td>-0.119347</td>\n",
       "      <td>-1.290984</td>\n",
       "      <td>2.741303</td>\n",
       "      <td>1.950283</td>\n",
       "      <td>1.177429</td>\n",
       "      <td>1.378497</td>\n",
       "      <td>0.031226</td>\n",
       "      <td>2.710077</td>\n",
       "      <td>0.301146</td>\n",
       "      <td>-0.238694</td>\n",
       "    </tr>\n",
       "    <tr>\n",
       "      <th>74053</th>\n",
       "      <td>0</td>\n",
       "      <td>1.2875</td>\n",
       "      <td>0.9875</td>\n",
       "      <td>0.3250</td>\n",
       "      <td>14.571643</td>\n",
       "      <td>5.556502</td>\n",
       "      <td>3.883882</td>\n",
       "      <td>4.819415</td>\n",
       "      <td>1.271406</td>\n",
       "      <td>11.461044</td>\n",
       "      <td>...</td>\n",
       "      <td>-0.012579</td>\n",
       "      <td>-1.123930</td>\n",
       "      <td>2.679077</td>\n",
       "      <td>1.714969</td>\n",
       "      <td>1.356835</td>\n",
       "      <td>1.572653</td>\n",
       "      <td>0.240124</td>\n",
       "      <td>2.438954</td>\n",
       "      <td>0.505405</td>\n",
       "      <td>-0.025158</td>\n",
       "    </tr>\n",
       "    <tr>\n",
       "      <th>74054</th>\n",
       "      <td>0</td>\n",
       "      <td>1.5500</td>\n",
       "      <td>0.9875</td>\n",
       "      <td>0.3875</td>\n",
       "      <td>28.377849</td>\n",
       "      <td>13.380964</td>\n",
       "      <td>6.548735</td>\n",
       "      <td>7.030676</td>\n",
       "      <td>1.530625</td>\n",
       "      <td>18.540041</td>\n",
       "      <td>...</td>\n",
       "      <td>-0.012579</td>\n",
       "      <td>-0.948039</td>\n",
       "      <td>3.345609</td>\n",
       "      <td>2.593833</td>\n",
       "      <td>1.879272</td>\n",
       "      <td>1.950283</td>\n",
       "      <td>0.425676</td>\n",
       "      <td>2.919933</td>\n",
       "      <td>0.876510</td>\n",
       "      <td>-0.025158</td>\n",
       "    </tr>\n",
       "    <tr>\n",
       "      <th>74055</th>\n",
       "      <td>1</td>\n",
       "      <td>1.1125</td>\n",
       "      <td>0.8500</td>\n",
       "      <td>0.2625</td>\n",
       "      <td>11.765042</td>\n",
       "      <td>5.528153</td>\n",
       "      <td>2.466407</td>\n",
       "      <td>3.331066</td>\n",
       "      <td>0.945625</td>\n",
       "      <td>12.441552</td>\n",
       "      <td>...</td>\n",
       "      <td>-0.162519</td>\n",
       "      <td>-1.337504</td>\n",
       "      <td>2.465133</td>\n",
       "      <td>1.709854</td>\n",
       "      <td>0.902762</td>\n",
       "      <td>1.203292</td>\n",
       "      <td>-0.055909</td>\n",
       "      <td>2.521042</td>\n",
       "      <td>0.213219</td>\n",
       "      <td>-0.325038</td>\n",
       "    </tr>\n",
       "    <tr>\n",
       "      <th>...</th>\n",
       "      <td>...</td>\n",
       "      <td>...</td>\n",
       "      <td>...</td>\n",
       "      <td>...</td>\n",
       "      <td>...</td>\n",
       "      <td>...</td>\n",
       "      <td>...</td>\n",
       "      <td>...</td>\n",
       "      <td>...</td>\n",
       "      <td>...</td>\n",
       "      <td>...</td>\n",
       "      <td>...</td>\n",
       "      <td>...</td>\n",
       "      <td>...</td>\n",
       "      <td>...</td>\n",
       "      <td>...</td>\n",
       "      <td>...</td>\n",
       "      <td>...</td>\n",
       "      <td>...</td>\n",
       "      <td>...</td>\n",
       "      <td>...</td>\n",
       "    </tr>\n",
       "    <tr>\n",
       "      <th>123414</th>\n",
       "      <td>0</td>\n",
       "      <td>1.3000</td>\n",
       "      <td>1.0375</td>\n",
       "      <td>0.3250</td>\n",
       "      <td>16.315137</td>\n",
       "      <td>6.690482</td>\n",
       "      <td>5.173784</td>\n",
       "      <td>3.756309</td>\n",
       "      <td>1.348750</td>\n",
       "      <td>12.096487</td>\n",
       "      <td>...</td>\n",
       "      <td>0.036814</td>\n",
       "      <td>-1.123930</td>\n",
       "      <td>2.792093</td>\n",
       "      <td>1.900686</td>\n",
       "      <td>1.643604</td>\n",
       "      <td>1.323437</td>\n",
       "      <td>0.299178</td>\n",
       "      <td>2.492915</td>\n",
       "      <td>0.524729</td>\n",
       "      <td>0.073628</td>\n",
       "    </tr>\n",
       "    <tr>\n",
       "      <th>123415</th>\n",
       "      <td>1</td>\n",
       "      <td>1.0375</td>\n",
       "      <td>0.7625</td>\n",
       "      <td>0.2625</td>\n",
       "      <td>10.276694</td>\n",
       "      <td>4.436697</td>\n",
       "      <td>1.998640</td>\n",
       "      <td>3.543687</td>\n",
       "      <td>0.791094</td>\n",
       "      <td>12.990488</td>\n",
       "      <td>...</td>\n",
       "      <td>-0.271153</td>\n",
       "      <td>-1.337504</td>\n",
       "      <td>2.329879</td>\n",
       "      <td>1.489910</td>\n",
       "      <td>0.692467</td>\n",
       "      <td>1.265168</td>\n",
       "      <td>-0.234339</td>\n",
       "      <td>2.564217</td>\n",
       "      <td>0.073628</td>\n",
       "      <td>-0.542306</td>\n",
       "    </tr>\n",
       "    <tr>\n",
       "      <th>123416</th>\n",
       "      <td>0</td>\n",
       "      <td>1.4875</td>\n",
       "      <td>1.1625</td>\n",
       "      <td>0.3625</td>\n",
       "      <td>31.382897</td>\n",
       "      <td>11.396499</td>\n",
       "      <td>6.846404</td>\n",
       "      <td>8.788345</td>\n",
       "      <td>1.729219</td>\n",
       "      <td>18.148598</td>\n",
       "      <td>...</td>\n",
       "      <td>0.150573</td>\n",
       "      <td>-1.014731</td>\n",
       "      <td>3.446263</td>\n",
       "      <td>2.433306</td>\n",
       "      <td>1.923724</td>\n",
       "      <td>2.173426</td>\n",
       "      <td>0.547670</td>\n",
       "      <td>2.898593</td>\n",
       "      <td>0.794194</td>\n",
       "      <td>0.301146</td>\n",
       "    </tr>\n",
       "    <tr>\n",
       "      <th>123417</th>\n",
       "      <td>0</td>\n",
       "      <td>1.2375</td>\n",
       "      <td>0.9500</td>\n",
       "      <td>0.2875</td>\n",
       "      <td>15.663099</td>\n",
       "      <td>6.095142</td>\n",
       "      <td>3.727959</td>\n",
       "      <td>4.961163</td>\n",
       "      <td>1.175625</td>\n",
       "      <td>13.323210</td>\n",
       "      <td>...</td>\n",
       "      <td>-0.051293</td>\n",
       "      <td>-1.246532</td>\n",
       "      <td>2.751308</td>\n",
       "      <td>1.807492</td>\n",
       "      <td>1.315861</td>\n",
       "      <td>1.601640</td>\n",
       "      <td>0.161800</td>\n",
       "      <td>2.589508</td>\n",
       "      <td>0.426186</td>\n",
       "      <td>-0.102587</td>\n",
       "    </tr>\n",
       "    <tr>\n",
       "      <th>123418</th>\n",
       "      <td>2</td>\n",
       "      <td>1.6625</td>\n",
       "      <td>1.3000</td>\n",
       "      <td>0.4375</td>\n",
       "      <td>36.613379</td>\n",
       "      <td>14.911837</td>\n",
       "      <td>8.292229</td>\n",
       "      <td>10.489315</td>\n",
       "      <td>2.161250</td>\n",
       "      <td>16.940835</td>\n",
       "      <td>...</td>\n",
       "      <td>0.262364</td>\n",
       "      <td>-0.826679</td>\n",
       "      <td>3.600414</td>\n",
       "      <td>2.702155</td>\n",
       "      <td>2.115319</td>\n",
       "      <td>2.350357</td>\n",
       "      <td>0.770687</td>\n",
       "      <td>2.829727</td>\n",
       "      <td>1.016645</td>\n",
       "      <td>0.524729</td>\n",
       "    </tr>\n",
       "  </tbody>\n",
       "</table>\n",
       "<p>49368 rows × 23 columns</p>\n",
       "</div>"
      ],
      "text/plain": [
       "        Sex  Length  Diameter  Height     Weight  Shucked Weight  \\\n",
       "id                                                                 \n",
       "74051     1  1.0500    0.7625  0.2750   8.618248        3.657085   \n",
       "74052     1  1.1625    0.8875  0.2750  15.507176        7.030676   \n",
       "74053     0  1.2875    0.9875  0.3250  14.571643        5.556502   \n",
       "74054     0  1.5500    0.9875  0.3875  28.377849       13.380964   \n",
       "74055     1  1.1125    0.8500  0.2625  11.765042        5.528153   \n",
       "...     ...     ...       ...     ...        ...             ...   \n",
       "123414    0  1.3000    1.0375  0.3250  16.315137        6.690482   \n",
       "123415    1  1.0375    0.7625  0.2625  10.276694        4.436697   \n",
       "123416    0  1.4875    1.1625  0.3625  31.382897       11.396499   \n",
       "123417    0  1.2375    0.9500  0.2875  15.663099        6.095142   \n",
       "123418    2  1.6625    1.3000  0.4375  36.613379       14.911837   \n",
       "\n",
       "        Viscera Weight  Shell Weight  Area_Crab  Weight_Area  ...  \\\n",
       "id                                                            ...   \n",
       "74051         1.729319      2.721552   0.800625    10.764400  ...   \n",
       "74052         3.246018      3.968930   1.031719    15.030430  ...   \n",
       "74053         3.883882      4.819415   1.271406    11.461044  ...   \n",
       "74054         6.548735      7.030676   1.530625    18.540041  ...   \n",
       "74055         2.466407      3.331066   0.945625    12.441552  ...   \n",
       "...                ...           ...        ...          ...  ...   \n",
       "123414        5.173784      3.756309   1.348750    12.096487  ...   \n",
       "123415        1.998640      3.543687   0.791094    12.990488  ...   \n",
       "123416        6.846404      8.788345   1.729219    18.148598  ...   \n",
       "123417        3.727959      4.961163   1.175625    13.323210  ...   \n",
       "123418        8.292229     10.489315   2.161250    16.940835  ...   \n",
       "\n",
       "        log_Diameter  log_Height  log_Weight  log_Shucked Weight  \\\n",
       "id                                                                 \n",
       "74051      -0.271153   -1.290984    2.153882            1.296667   \n",
       "74052      -0.119347   -1.290984    2.741303            1.950283   \n",
       "74053      -0.012579   -1.123930    2.679077            1.714969   \n",
       "74054      -0.012579   -0.948039    3.345609            2.593833   \n",
       "74055      -0.162519   -1.337504    2.465133            1.709854   \n",
       "...              ...         ...         ...                 ...   \n",
       "123414      0.036814   -1.123930    2.792093            1.900686   \n",
       "123415     -0.271153   -1.337504    2.329879            1.489910   \n",
       "123416      0.150573   -1.014731    3.446263            2.433306   \n",
       "123417     -0.051293   -1.246532    2.751308            1.807492   \n",
       "123418      0.262364   -0.826679    3.600414            2.702155   \n",
       "\n",
       "        log_Viscera Weight  log_Shell Weight  log_Area_Crab  log_Weight_Area  \\\n",
       "id                                                                             \n",
       "74051             0.547728          1.001202      -0.222363         2.376244   \n",
       "74052             1.177429          1.378497       0.031226         2.710077   \n",
       "74053             1.356835          1.572653       0.240124         2.438954   \n",
       "74054             1.879272          1.950283       0.425676         2.919933   \n",
       "74055             0.902762          1.203292      -0.055909         2.521042   \n",
       "...                    ...               ...            ...              ...   \n",
       "123414            1.643604          1.323437       0.299178         2.492915   \n",
       "123415            0.692467          1.265168      -0.234339         2.564217   \n",
       "123416            1.923724          2.173426       0.547670         2.898593   \n",
       "123417            1.315861          1.601640       0.161800         2.589508   \n",
       "123418            2.115319          2.350357       0.770687         2.829727   \n",
       "\n",
       "        log_Length_Poly  log_Diameter_Poly  \n",
       "id                                          \n",
       "74051          0.097580          -0.542306  \n",
       "74052          0.301146          -0.238694  \n",
       "74053          0.505405          -0.025158  \n",
       "74054          0.876510          -0.025158  \n",
       "74055          0.213219          -0.325038  \n",
       "...                 ...                ...  \n",
       "123414         0.524729           0.073628  \n",
       "123415         0.073628          -0.542306  \n",
       "123416         0.794194           0.301146  \n",
       "123417         0.426186          -0.102587  \n",
       "123418         1.016645           0.524729  \n",
       "\n",
       "[49368 rows x 23 columns]"
      ]
     },
     "execution_count": 85,
     "metadata": {},
     "output_type": "execute_result"
    }
   ],
   "source": [
    "import numpy as np\n",
    "\n",
    "# Veri setindeki tüm bağımsız değişkenleri içeren bir liste\n",
    "bagimsiz_degiskenler = ['Length', 'Diameter', 'Height', 'Weight', 'Shucked Weight',\n",
    "       'Viscera Weight', 'Shell Weight', 'Area_Crab', 'Weight_Area',\n",
    "       'Length_Poly', 'Diameter_Poly']\n",
    "# Log dönüşümü uygulanmış değişkenleri depolamak için bir DataFrame\n",
    "log_degiskenler = pd.DataFrame()\n",
    "\n",
    "# Tüm bağımsız değişkenleri log dönüşümüne tabi tutma döngüsü\n",
    "for degisken in bagimsiz_degiskenler:\n",
    "    log_degiskenler['log_' + degisken] = np.log(test[degisken])\n",
    "\n",
    "# Log dönüşümü yapılan değişkenleri mevcut veri setine eklemek için pd.merge kullanma\n",
    "test = pd.merge(test, log_degiskenler, left_index=True, right_index=True)\n",
    "\n",
    "# Sonuçları kontrol etmek için veri setini yazdırma\n",
    "test\n"
   ]
  },
  {
   "cell_type": "code",
   "execution_count": 110,
   "metadata": {
    "execution": {
     "iopub.execute_input": "2023-06-11T22:05:04.231438Z",
     "iopub.status.busy": "2023-06-11T22:05:04.231056Z",
     "iopub.status.idle": "2023-06-11T22:05:04.264172Z",
     "shell.execute_reply": "2023-06-11T22:05:04.262952Z",
     "shell.execute_reply.started": "2023-06-11T22:05:04.231409Z"
    }
   },
   "outputs": [
    {
     "name": "stdout",
     "output_type": "stream",
     "text": [
      "X_train shape: (59240, 23)\n",
      "X_test shape: (14811, 23)\n",
      "y_train shape: (59240,)\n",
      "y_test shape: (14811,)\n"
     ]
    }
   ],
   "source": [
    "from sklearn.model_selection import train_test_split\n",
    "from sklearn.preprocessing import StandardScaler\n",
    "\n",
    "X = train.drop('Age', axis=1)  # 'Age' sütununu çıkararak bağımsız değişkenleri alın\n",
    "y = train['Age']  # 'Age' sütununu bağımlı değişken olarak ayırın\n",
    "\n",
    "# Z-standardizasyon için scaler oluşturma\n",
    "\n",
    "\n",
    "\n",
    "# Eğitim ve test veri kümelerini oluşturun\n",
    "X_train, X_test, y_train, y_test = train_test_split(X, y, test_size=0.20, random_state=42)\n",
    "\n",
    "# Sonuçları gösterin\n",
    "print(\"X_train shape:\", X_train.shape)\n",
    "print(\"X_test shape:\", X_test.shape)\n",
    "print(\"y_train shape:\", y_train.shape)\n",
    "print(\"y_test shape:\", y_test.shape)\n"
   ]
  },
  {
   "cell_type": "code",
   "execution_count": 111,
   "metadata": {
    "execution": {
     "iopub.execute_input": "2023-06-11T22:05:06.468974Z",
     "iopub.status.busy": "2023-06-11T22:05:06.468664Z",
     "iopub.status.idle": "2023-06-11T22:05:06.504967Z",
     "shell.execute_reply": "2023-06-11T22:05:06.503850Z",
     "shell.execute_reply.started": "2023-06-11T22:05:06.468949Z"
    }
   },
   "outputs": [
    {
     "data": {
      "text/html": [
       "<div>\n",
       "<style scoped>\n",
       "    .dataframe tbody tr th:only-of-type {\n",
       "        vertical-align: middle;\n",
       "    }\n",
       "\n",
       "    .dataframe tbody tr th {\n",
       "        vertical-align: top;\n",
       "    }\n",
       "\n",
       "    .dataframe thead th {\n",
       "        text-align: right;\n",
       "    }\n",
       "</style>\n",
       "<table border=\"1\" class=\"dataframe\">\n",
       "  <thead>\n",
       "    <tr style=\"text-align: right;\">\n",
       "      <th></th>\n",
       "      <th>Sex</th>\n",
       "      <th>Length</th>\n",
       "      <th>Diameter</th>\n",
       "      <th>Height</th>\n",
       "      <th>Weight</th>\n",
       "      <th>Shucked Weight</th>\n",
       "      <th>Viscera Weight</th>\n",
       "      <th>Shell Weight</th>\n",
       "      <th>Area_Crab</th>\n",
       "      <th>Weight_Area</th>\n",
       "      <th>...</th>\n",
       "      <th>log_Diameter</th>\n",
       "      <th>log_Height</th>\n",
       "      <th>log_Weight</th>\n",
       "      <th>log_Shucked Weight</th>\n",
       "      <th>log_Viscera Weight</th>\n",
       "      <th>log_Shell Weight</th>\n",
       "      <th>log_Area_Crab</th>\n",
       "      <th>log_Weight_Area</th>\n",
       "      <th>log_Length_Poly</th>\n",
       "      <th>log_Diameter_Poly</th>\n",
       "    </tr>\n",
       "    <tr>\n",
       "      <th>id</th>\n",
       "      <th></th>\n",
       "      <th></th>\n",
       "      <th></th>\n",
       "      <th></th>\n",
       "      <th></th>\n",
       "      <th></th>\n",
       "      <th></th>\n",
       "      <th></th>\n",
       "      <th></th>\n",
       "      <th></th>\n",
       "      <th></th>\n",
       "      <th></th>\n",
       "      <th></th>\n",
       "      <th></th>\n",
       "      <th></th>\n",
       "      <th></th>\n",
       "      <th></th>\n",
       "      <th></th>\n",
       "      <th></th>\n",
       "      <th></th>\n",
       "      <th></th>\n",
       "    </tr>\n",
       "  </thead>\n",
       "  <tbody>\n",
       "    <tr>\n",
       "      <th>20612</th>\n",
       "      <td>2</td>\n",
       "      <td>1.6125</td>\n",
       "      <td>1.1500</td>\n",
       "      <td>0.4000</td>\n",
       "      <td>31.269499</td>\n",
       "      <td>15.252031</td>\n",
       "      <td>6.265239</td>\n",
       "      <td>7.059025</td>\n",
       "      <td>1.854375</td>\n",
       "      <td>16.862554</td>\n",
       "      <td>...</td>\n",
       "      <td>0.139762</td>\n",
       "      <td>-0.916291</td>\n",
       "      <td>3.442643</td>\n",
       "      <td>2.724713</td>\n",
       "      <td>1.835017</td>\n",
       "      <td>1.954307</td>\n",
       "      <td>0.617548</td>\n",
       "      <td>2.825095</td>\n",
       "      <td>0.955572</td>\n",
       "      <td>0.279524</td>\n",
       "    </tr>\n",
       "    <tr>\n",
       "      <th>2935</th>\n",
       "      <td>0</td>\n",
       "      <td>1.5250</td>\n",
       "      <td>1.1750</td>\n",
       "      <td>0.4125</td>\n",
       "      <td>30.220567</td>\n",
       "      <td>12.232809</td>\n",
       "      <td>7.002326</td>\n",
       "      <td>8.930093</td>\n",
       "      <td>1.791875</td>\n",
       "      <td>16.865332</td>\n",
       "      <td>...</td>\n",
       "      <td>0.161268</td>\n",
       "      <td>-0.885519</td>\n",
       "      <td>3.408523</td>\n",
       "      <td>2.504122</td>\n",
       "      <td>1.946242</td>\n",
       "      <td>2.189427</td>\n",
       "      <td>0.583263</td>\n",
       "      <td>2.825260</td>\n",
       "      <td>0.843989</td>\n",
       "      <td>0.322536</td>\n",
       "    </tr>\n",
       "    <tr>\n",
       "      <th>73847</th>\n",
       "      <td>2</td>\n",
       "      <td>1.5000</td>\n",
       "      <td>1.1625</td>\n",
       "      <td>0.3875</td>\n",
       "      <td>29.114936</td>\n",
       "      <td>13.125818</td>\n",
       "      <td>6.166016</td>\n",
       "      <td>8.079607</td>\n",
       "      <td>1.743750</td>\n",
       "      <td>16.696738</td>\n",
       "      <td>...</td>\n",
       "      <td>0.150573</td>\n",
       "      <td>-0.948039</td>\n",
       "      <td>3.371251</td>\n",
       "      <td>2.574581</td>\n",
       "      <td>1.819053</td>\n",
       "      <td>2.089343</td>\n",
       "      <td>0.556038</td>\n",
       "      <td>2.815213</td>\n",
       "      <td>0.810930</td>\n",
       "      <td>0.301146</td>\n",
       "    </tr>\n",
       "    <tr>\n",
       "      <th>46445</th>\n",
       "      <td>2</td>\n",
       "      <td>1.1250</td>\n",
       "      <td>0.8875</td>\n",
       "      <td>0.2375</td>\n",
       "      <td>12.998246</td>\n",
       "      <td>5.499803</td>\n",
       "      <td>2.891649</td>\n",
       "      <td>3.685435</td>\n",
       "      <td>0.998437</td>\n",
       "      <td>13.018587</td>\n",
       "      <td>...</td>\n",
       "      <td>-0.119347</td>\n",
       "      <td>-1.437588</td>\n",
       "      <td>2.564814</td>\n",
       "      <td>1.704712</td>\n",
       "      <td>1.061827</td>\n",
       "      <td>1.304389</td>\n",
       "      <td>-0.001564</td>\n",
       "      <td>2.566378</td>\n",
       "      <td>0.235566</td>\n",
       "      <td>-0.238694</td>\n",
       "    </tr>\n",
       "    <tr>\n",
       "      <th>66755</th>\n",
       "      <td>1</td>\n",
       "      <td>0.8625</td>\n",
       "      <td>0.6375</td>\n",
       "      <td>0.1875</td>\n",
       "      <td>4.280774</td>\n",
       "      <td>1.644271</td>\n",
       "      <td>0.737087</td>\n",
       "      <td>1.275727</td>\n",
       "      <td>0.549844</td>\n",
       "      <td>7.785438</td>\n",
       "      <td>...</td>\n",
       "      <td>-0.450201</td>\n",
       "      <td>-1.673976</td>\n",
       "      <td>1.454134</td>\n",
       "      <td>0.497297</td>\n",
       "      <td>-0.305049</td>\n",
       "      <td>0.243517</td>\n",
       "      <td>-0.598121</td>\n",
       "      <td>2.052255</td>\n",
       "      <td>-0.295840</td>\n",
       "      <td>-0.900402</td>\n",
       "    </tr>\n",
       "    <tr>\n",
       "      <th>...</th>\n",
       "      <td>...</td>\n",
       "      <td>...</td>\n",
       "      <td>...</td>\n",
       "      <td>...</td>\n",
       "      <td>...</td>\n",
       "      <td>...</td>\n",
       "      <td>...</td>\n",
       "      <td>...</td>\n",
       "      <td>...</td>\n",
       "      <td>...</td>\n",
       "      <td>...</td>\n",
       "      <td>...</td>\n",
       "      <td>...</td>\n",
       "      <td>...</td>\n",
       "      <td>...</td>\n",
       "      <td>...</td>\n",
       "      <td>...</td>\n",
       "      <td>...</td>\n",
       "      <td>...</td>\n",
       "      <td>...</td>\n",
       "      <td>...</td>\n",
       "    </tr>\n",
       "    <tr>\n",
       "      <th>37194</th>\n",
       "      <td>1</td>\n",
       "      <td>0.7000</td>\n",
       "      <td>1.0750</td>\n",
       "      <td>0.2000</td>\n",
       "      <td>2.211261</td>\n",
       "      <td>0.935534</td>\n",
       "      <td>0.510291</td>\n",
       "      <td>0.765436</td>\n",
       "      <td>0.367500</td>\n",
       "      <td>15.294302</td>\n",
       "      <td>...</td>\n",
       "      <td>0.072321</td>\n",
       "      <td>-1.609438</td>\n",
       "      <td>0.793563</td>\n",
       "      <td>-0.066638</td>\n",
       "      <td>-0.672774</td>\n",
       "      <td>-0.267309</td>\n",
       "      <td>-1.001032</td>\n",
       "      <td>2.727480</td>\n",
       "      <td>-0.713350</td>\n",
       "      <td>-1.288714</td>\n",
       "    </tr>\n",
       "    <tr>\n",
       "      <th>6265</th>\n",
       "      <td>0</td>\n",
       "      <td>1.6500</td>\n",
       "      <td>1.2750</td>\n",
       "      <td>0.5250</td>\n",
       "      <td>39.859397</td>\n",
       "      <td>17.605040</td>\n",
       "      <td>8.093782</td>\n",
       "      <td>11.623295</td>\n",
       "      <td>2.103750</td>\n",
       "      <td>18.946832</td>\n",
       "      <td>...</td>\n",
       "      <td>0.242946</td>\n",
       "      <td>-0.644357</td>\n",
       "      <td>3.685358</td>\n",
       "      <td>2.868185</td>\n",
       "      <td>2.091096</td>\n",
       "      <td>2.453011</td>\n",
       "      <td>0.743721</td>\n",
       "      <td>2.941637</td>\n",
       "      <td>1.001551</td>\n",
       "      <td>0.485892</td>\n",
       "    </tr>\n",
       "    <tr>\n",
       "      <th>54886</th>\n",
       "      <td>2</td>\n",
       "      <td>1.6750</td>\n",
       "      <td>1.3500</td>\n",
       "      <td>0.4375</td>\n",
       "      <td>42.013959</td>\n",
       "      <td>20.950281</td>\n",
       "      <td>8.292229</td>\n",
       "      <td>10.347568</td>\n",
       "      <td>2.261250</td>\n",
       "      <td>18.579971</td>\n",
       "      <td>...</td>\n",
       "      <td>0.300105</td>\n",
       "      <td>-0.826679</td>\n",
       "      <td>3.738002</td>\n",
       "      <td>3.042152</td>\n",
       "      <td>2.115319</td>\n",
       "      <td>2.336751</td>\n",
       "      <td>0.815918</td>\n",
       "      <td>2.922084</td>\n",
       "      <td>1.031626</td>\n",
       "      <td>0.600209</td>\n",
       "    </tr>\n",
       "    <tr>\n",
       "      <th>860</th>\n",
       "      <td>2</td>\n",
       "      <td>1.5000</td>\n",
       "      <td>1.1750</td>\n",
       "      <td>0.4375</td>\n",
       "      <td>37.747359</td>\n",
       "      <td>12.190285</td>\n",
       "      <td>8.221355</td>\n",
       "      <td>10.616888</td>\n",
       "      <td>1.762500</td>\n",
       "      <td>21.416941</td>\n",
       "      <td>...</td>\n",
       "      <td>0.161268</td>\n",
       "      <td>-0.826679</td>\n",
       "      <td>3.630916</td>\n",
       "      <td>2.500639</td>\n",
       "      <td>2.106735</td>\n",
       "      <td>2.362446</td>\n",
       "      <td>0.566733</td>\n",
       "      <td>3.064182</td>\n",
       "      <td>0.810930</td>\n",
       "      <td>0.322536</td>\n",
       "    </tr>\n",
       "    <tr>\n",
       "      <th>15795</th>\n",
       "      <td>1</td>\n",
       "      <td>1.3750</td>\n",
       "      <td>1.0750</td>\n",
       "      <td>0.2375</td>\n",
       "      <td>0.864660</td>\n",
       "      <td>0.311845</td>\n",
       "      <td>0.212621</td>\n",
       "      <td>0.283495</td>\n",
       "      <td>0.147656</td>\n",
       "      <td>15.294302</td>\n",
       "      <td>...</td>\n",
       "      <td>0.072321</td>\n",
       "      <td>-1.437588</td>\n",
       "      <td>-0.145419</td>\n",
       "      <td>-1.165251</td>\n",
       "      <td>-1.548243</td>\n",
       "      <td>-1.260561</td>\n",
       "      <td>-1.912868</td>\n",
       "      <td>2.727480</td>\n",
       "      <td>-1.653357</td>\n",
       "      <td>-2.172380</td>\n",
       "    </tr>\n",
       "  </tbody>\n",
       "</table>\n",
       "<p>59240 rows × 23 columns</p>\n",
       "</div>"
      ],
      "text/plain": [
       "       Sex  Length  Diameter  Height     Weight  Shucked Weight  \\\n",
       "id                                                                \n",
       "20612    2  1.6125    1.1500  0.4000  31.269499       15.252031   \n",
       "2935     0  1.5250    1.1750  0.4125  30.220567       12.232809   \n",
       "73847    2  1.5000    1.1625  0.3875  29.114936       13.125818   \n",
       "46445    2  1.1250    0.8875  0.2375  12.998246        5.499803   \n",
       "66755    1  0.8625    0.6375  0.1875   4.280774        1.644271   \n",
       "...    ...     ...       ...     ...        ...             ...   \n",
       "37194    1  0.7000    1.0750  0.2000   2.211261        0.935534   \n",
       "6265     0  1.6500    1.2750  0.5250  39.859397       17.605040   \n",
       "54886    2  1.6750    1.3500  0.4375  42.013959       20.950281   \n",
       "860      2  1.5000    1.1750  0.4375  37.747359       12.190285   \n",
       "15795    1  1.3750    1.0750  0.2375   0.864660        0.311845   \n",
       "\n",
       "       Viscera Weight  Shell Weight  Area_Crab  Weight_Area  ...  \\\n",
       "id                                                           ...   \n",
       "20612        6.265239      7.059025   1.854375    16.862554  ...   \n",
       "2935         7.002326      8.930093   1.791875    16.865332  ...   \n",
       "73847        6.166016      8.079607   1.743750    16.696738  ...   \n",
       "46445        2.891649      3.685435   0.998437    13.018587  ...   \n",
       "66755        0.737087      1.275727   0.549844     7.785438  ...   \n",
       "...               ...           ...        ...          ...  ...   \n",
       "37194        0.510291      0.765436   0.367500    15.294302  ...   \n",
       "6265         8.093782     11.623295   2.103750    18.946832  ...   \n",
       "54886        8.292229     10.347568   2.261250    18.579971  ...   \n",
       "860          8.221355     10.616888   1.762500    21.416941  ...   \n",
       "15795        0.212621      0.283495   0.147656    15.294302  ...   \n",
       "\n",
       "       log_Diameter  log_Height  log_Weight  log_Shucked Weight  \\\n",
       "id                                                                \n",
       "20612      0.139762   -0.916291    3.442643            2.724713   \n",
       "2935       0.161268   -0.885519    3.408523            2.504122   \n",
       "73847      0.150573   -0.948039    3.371251            2.574581   \n",
       "46445     -0.119347   -1.437588    2.564814            1.704712   \n",
       "66755     -0.450201   -1.673976    1.454134            0.497297   \n",
       "...             ...         ...         ...                 ...   \n",
       "37194      0.072321   -1.609438    0.793563           -0.066638   \n",
       "6265       0.242946   -0.644357    3.685358            2.868185   \n",
       "54886      0.300105   -0.826679    3.738002            3.042152   \n",
       "860        0.161268   -0.826679    3.630916            2.500639   \n",
       "15795      0.072321   -1.437588   -0.145419           -1.165251   \n",
       "\n",
       "       log_Viscera Weight  log_Shell Weight  log_Area_Crab  log_Weight_Area  \\\n",
       "id                                                                            \n",
       "20612            1.835017          1.954307       0.617548         2.825095   \n",
       "2935             1.946242          2.189427       0.583263         2.825260   \n",
       "73847            1.819053          2.089343       0.556038         2.815213   \n",
       "46445            1.061827          1.304389      -0.001564         2.566378   \n",
       "66755           -0.305049          0.243517      -0.598121         2.052255   \n",
       "...                   ...               ...            ...              ...   \n",
       "37194           -0.672774         -0.267309      -1.001032         2.727480   \n",
       "6265             2.091096          2.453011       0.743721         2.941637   \n",
       "54886            2.115319          2.336751       0.815918         2.922084   \n",
       "860              2.106735          2.362446       0.566733         3.064182   \n",
       "15795           -1.548243         -1.260561      -1.912868         2.727480   \n",
       "\n",
       "       log_Length_Poly  log_Diameter_Poly  \n",
       "id                                         \n",
       "20612         0.955572           0.279524  \n",
       "2935          0.843989           0.322536  \n",
       "73847         0.810930           0.301146  \n",
       "46445         0.235566          -0.238694  \n",
       "66755        -0.295840          -0.900402  \n",
       "...                ...                ...  \n",
       "37194        -0.713350          -1.288714  \n",
       "6265          1.001551           0.485892  \n",
       "54886         1.031626           0.600209  \n",
       "860           0.810930           0.322536  \n",
       "15795        -1.653357          -2.172380  \n",
       "\n",
       "[59240 rows x 23 columns]"
      ]
     },
     "execution_count": 111,
     "metadata": {},
     "output_type": "execute_result"
    }
   ],
   "source": [
    "X_train"
   ]
  },
  {
   "cell_type": "code",
   "execution_count": 91,
   "metadata": {
    "execution": {
     "iopub.execute_input": "2023-06-11T21:37:10.566142Z",
     "iopub.status.busy": "2023-06-11T21:37:10.565768Z",
     "iopub.status.idle": "2023-06-11T21:37:10.774254Z",
     "shell.execute_reply": "2023-06-11T21:37:10.773521Z",
     "shell.execute_reply.started": "2023-06-11T21:37:10.566115Z"
    }
   },
   "outputs": [
    {
     "name": "stdout",
     "output_type": "stream",
     "text": [
      "Önemli Değişkenler:\n",
      "Index(['Weight', 'Shucked Weight', 'Shell Weight', 'Weight_Area',\n",
      "       'log_Shell Weight'],\n",
      "      dtype='object')\n"
     ]
    }
   ],
   "source": [
    "from sklearn.linear_model import Lasso\n",
    "\n",
    "# Lasso regresyon modeli oluşturma\n",
    "lasso_model = Lasso(alpha=0.1)  # alpha parametresi, modelin karmaşıklığını kontrol eder\n",
    "\n",
    "# Lasso regresyon modelini eğitme\n",
    "lasso_model.fit(X, y)\n",
    "\n",
    "# Katsayıları ve sıfırdan farklı olan önemli değişkenleri belirleme\n",
    "katsayilar = lasso_model.coef_\n",
    "onemli_degiskenler = X.columns[np.abs(katsayilar) > 0]\n",
    "\n",
    "# Önemli değişkenleri yazdırma\n",
    "print(\"Önemli Değişkenler:\")\n",
    "print(onemli_degiskenler)\n"
   ]
  },
  {
   "cell_type": "code",
   "execution_count": 94,
   "metadata": {
    "execution": {
     "iopub.execute_input": "2023-06-11T21:39:23.077896Z",
     "iopub.status.busy": "2023-06-11T21:39:23.077549Z",
     "iopub.status.idle": "2023-06-11T21:39:24.207360Z",
     "shell.execute_reply": "2023-06-11T21:39:24.206095Z",
     "shell.execute_reply.started": "2023-06-11T21:39:23.077871Z"
    }
   },
   "outputs": [
    {
     "data": {
      "image/png": "[encoded data removed]",
      "text/plain": [
       "<Figure size 1000x600 with 1 Axes>"
      ]
     },
     "metadata": {},
     "output_type": "display_data"
    }
   ],
   "source": [
    "plt.figure(figsize=(10, 6))\n",
    "plt.scatter(X_test.index, y_test, color='blue', label='Actual')\n",
    "plt.scatter(X_test.index, y_pred_xgb_grid, color='red', label='XGBoost Regression')\n",
    "plt.xlabel('id')\n",
    "plt.ylabel('Age')\n",
    "plt.title('XGBoost Regression Prediction')\n",
    "plt.legend()\n",
    "plt.show()"
   ]
  },
  {
   "cell_type": "code",
   "execution_count": 77,
   "metadata": {
    "execution": {
     "iopub.execute_input": "2023-06-11T21:18:58.639611Z",
     "iopub.status.busy": "2023-06-11T21:18:58.639261Z",
     "iopub.status.idle": "2023-06-11T21:19:30.781652Z",
     "shell.execute_reply": "2023-06-11T21:19:30.780341Z",
     "shell.execute_reply.started": "2023-06-11T21:18:58.639583Z"
    }
   },
   "outputs": [
    {
     "data": {
      "text/plain": [
       "array([ 7.3322234,  7.631117 , 10.565728 , ..., 13.061962 ,  9.810994 ,\n",
       "       12.091651 ], dtype=float32)"
      ]
     },
     "execution_count": 77,
     "metadata": {},
     "output_type": "execute_result"
    }
   ],
   "source": [
    "model_grid = XGBRegressor(n_estimators=330 , \n",
    "                          learning_rate=0.01 ,\n",
    "                          max_depth=7)\n",
    "model_grid.fit(X_train, y_train)\n",
    "y_pred_xgb_grid_sub = model_grid.predict(test)\n",
    "y_pred_xgb_grid_sub"
   ]
  },
  {
   "cell_type": "code",
   "execution_count": 79,
   "metadata": {
    "execution": {
     "iopub.execute_input": "2023-06-11T21:19:35.611365Z",
     "iopub.status.busy": "2023-06-11T21:19:35.610532Z",
     "iopub.status.idle": "2023-06-11T21:19:35.699489Z",
     "shell.execute_reply": "2023-06-11T21:19:35.698352Z",
     "shell.execute_reply.started": "2023-06-11T21:19:35.611322Z"
    }
   },
   "outputs": [
    {
     "data": {
      "text/html": [
       "<div>\n",
       "<style scoped>\n",
       "    .dataframe tbody tr th:only-of-type {\n",
       "        vertical-align: middle;\n",
       "    }\n",
       "\n",
       "    .dataframe tbody tr th {\n",
       "        vertical-align: top;\n",
       "    }\n",
       "\n",
       "    .dataframe thead th {\n",
       "        text-align: right;\n",
       "    }\n",
       "</style>\n",
       "<table border=\"1\" class=\"dataframe\">\n",
       "  <thead>\n",
       "    <tr style=\"text-align: right;\">\n",
       "      <th></th>\n",
       "      <th>id</th>\n",
       "      <th>Age</th>\n",
       "    </tr>\n",
       "  </thead>\n",
       "  <tbody>\n",
       "    <tr>\n",
       "      <th>0</th>\n",
       "      <td>74051</td>\n",
       "      <td>8</td>\n",
       "    </tr>\n",
       "    <tr>\n",
       "      <th>1</th>\n",
       "      <td>74052</td>\n",
       "      <td>8</td>\n",
       "    </tr>\n",
       "    <tr>\n",
       "      <th>2</th>\n",
       "      <td>74053</td>\n",
       "      <td>11</td>\n",
       "    </tr>\n",
       "    <tr>\n",
       "      <th>3</th>\n",
       "      <td>74054</td>\n",
       "      <td>9</td>\n",
       "    </tr>\n",
       "    <tr>\n",
       "      <th>4</th>\n",
       "      <td>74055</td>\n",
       "      <td>7</td>\n",
       "    </tr>\n",
       "    <tr>\n",
       "      <th>...</th>\n",
       "      <td>...</td>\n",
       "      <td>...</td>\n",
       "    </tr>\n",
       "    <tr>\n",
       "      <th>49363</th>\n",
       "      <td>123414</td>\n",
       "      <td>11</td>\n",
       "    </tr>\n",
       "    <tr>\n",
       "      <th>49364</th>\n",
       "      <td>123415</td>\n",
       "      <td>8</td>\n",
       "    </tr>\n",
       "    <tr>\n",
       "      <th>49365</th>\n",
       "      <td>123416</td>\n",
       "      <td>13</td>\n",
       "    </tr>\n",
       "    <tr>\n",
       "      <th>49366</th>\n",
       "      <td>123417</td>\n",
       "      <td>10</td>\n",
       "    </tr>\n",
       "    <tr>\n",
       "      <th>49367</th>\n",
       "      <td>123418</td>\n",
       "      <td>12</td>\n",
       "    </tr>\n",
       "  </tbody>\n",
       "</table>\n",
       "<p>49368 rows × 2 columns</p>\n",
       "</div>"
      ],
      "text/plain": [
       "           id  Age\n",
       "0       74051    8\n",
       "1       74052    8\n",
       "2       74053   11\n",
       "3       74054    9\n",
       "4       74055    7\n",
       "...       ...  ...\n",
       "49363  123414   11\n",
       "49364  123415    8\n",
       "49365  123416   13\n",
       "49366  123417   10\n",
       "49367  123418   12\n",
       "\n",
       "[49368 rows x 2 columns]"
      ]
     },
     "execution_count": 79,
     "metadata": {},
     "output_type": "execute_result"
    }
   ],
   "source": [
    "submission_df['Age'] = [round(i) for i in y_pred_lgb_grid]\n",
    "submission_df"
   ]
  },
  {
   "cell_type": "code",
   "execution_count": 80,
   "metadata": {
    "execution": {
     "iopub.execute_input": "2023-06-11T21:19:35.701403Z",
     "iopub.status.busy": "2023-06-11T21:19:35.701063Z",
     "iopub.status.idle": "2023-06-11T21:19:35.755516Z",
     "shell.execute_reply": "2023-06-11T21:19:35.754452Z",
     "shell.execute_reply.started": "2023-06-11T21:19:35.701374Z"
    }
   },
   "outputs": [],
   "source": [
    "submission_df.to_csv(\"submission.csv\" , index=False)"
   ]
  }
 ],
 "metadata": {
  "kernelspec": {
   "display_name": "Python 3",
   "language": "python",
   "name": "python3"
  },
  "language_info": {
   "codemirror_mode": {
    "name": "ipython",
    "version": 3
   },
   "file_extension": ".py",
   "mimetype": "text/x-python",
   "name": "python",
   "nbconvert_exporter": "python",
   "pygments_lexer": "ipython3",
   "version": "3.8.3"
  }
 },
 "nbformat": 4,
 "nbformat_minor": 4
}
